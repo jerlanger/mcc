{
 "cells": [
  {
   "cell_type": "code",
   "execution_count": 99,
   "id": "46df14d5-a7a0-4fe4-a95a-9e89ee1cef51",
   "metadata": {},
   "outputs": [],
   "source": [
    "import requests\n",
    "import json\n",
    "import os\n",
    "import time\n",
    "import boto3\n",
    "from ratelimit import limits, RateLimitException, sleep_and_retry\n",
    "from backoff import on_exception, expo\n",
    "import local.config as conf"
   ]
  },
  {
   "cell_type": "code",
   "execution_count": 52,
   "id": "e0bdd502-5a24-4809-bb47-05650ced494c",
   "metadata": {},
   "outputs": [],
   "source": [
    "class semanticScholar():\n",
    "    \n",
    "    def __init__(self, release_id=None):\n",
    "        \n",
    "        api_key = conf.semanticScholar.api_key\n",
    "        \n",
    "        self.headers = headers= {\"X-API-KEY\": api_key}\n",
    "        self.release_id = release_id\n",
    "        \n",
    "        if release_id is None:\n",
    "            print(\"no release id provided, using latest\")\n",
    "            self.release_id = max(self.query_dataset_api())\n",
    "        \n",
    "    @sleep_and_retry\n",
    "    @limits(calls=10, period=32)\n",
    "    def query_dataset_api(self, dataset=None):\n",
    "    \n",
    "        if self.release_id is None:\n",
    "            url = \"https://api.semanticscholar.org/datasets/v1/release/\"\n",
    "        elif dataset is None:\n",
    "            url = f\"https://api.semanticscholar.org/datasets/v1/release/{self.release_id}\"\n",
    "        else:\n",
    "            url = f\"https://api.semanticscholar.org/datasets/v1/release/{self.release_id}/dataset/{dataset}\"\n",
    "    \n",
    "        response = requests.get(f\"{url}\", headers=self.headers).json()\n",
    "\n",
    "        return response\n",
    "    \n",
    "    def interate_api(self):\n",
    "        \n",
    "        results = []\n",
    "        self.timestr = time.strftime(\"%Y%m%d-%H%M%S\")\n",
    "        \n",
    "        datasets = self.query_dataset_api()\n",
    "        \n",
    "        for r in datasets[\"datasets\"]:\n",
    "            result = self.query_dataset_api(dataset=r[\"name\"])\n",
    "            results.append(result)\n",
    "        \n",
    "        self.results = results\n",
    "    \n",
    "    def write_results(self):\n",
    "        \n",
    "        description = []\n",
    "\n",
    "        if not os.path.exists(f\"./local/semantic_scholar/release_id={self.release_id}/time={self.timestr}/links/\"):\n",
    "            os.makedirs(f\"./local/semantic_scholar/release_id={self.release_id}/time={self.timestr}/links/\")\n",
    "            \n",
    "        for r in self.results:\n",
    "            filename = r[\"name\"]\n",
    "            meta = { \"dataset\" : r[\"name\"],\n",
    "                    \"description\" : r[\"description\"],\n",
    "                    \"README\": r[\"README\"]\n",
    "                          }\n",
    "            description.append(meta)\n",
    "    \n",
    "            with open(f\"./local/semantic_scholar/release_id={self.release_id}/time={self.timestr}/links/{filename}.txt\", \"w\") as f:\n",
    "                f.write('\\n'.join(r[\"files\"]))\n",
    "\n",
    "        with open(f\"./local/semantic_scholar/release_id={self.release_id}/time={self.timestr}/description.json\", \"w\") as f:\n",
    "            f.write(json.dumps(description, indent=2))\n",
    "            \n",
    "    def generate_results(self):\n",
    "        \n",
    "        self.interate_api()\n",
    "        self.write_results()\n",
    "    \n",
    "    def download_datasets(self):\n",
    "        ### TODO"
   ]
  },
  {
   "cell_type": "code",
   "execution_count": 53,
   "id": "93123bc6-6bb0-40de-a8b7-351d796f0c4c",
   "metadata": {},
   "outputs": [
    {
     "name": "stdout",
     "output_type": "stream",
     "text": [
      "no release id provided, using latest\n"
     ]
    }
   ],
   "source": [
    "test = semanticScholar()\n",
    "test.generate_results()"
   ]
  },
  {
   "cell_type": "code",
   "execution_count": 100,
   "id": "f87aae8e-d003-4457-bcb5-cb303a7765c4",
   "metadata": {},
   "outputs": [
    {
     "name": "stdout",
     "output_type": "stream",
     "text": [
      "[{'dataset': 'data/authors/', 'newest': 'data/authors/updated_date=2022-06-07/'}, {'dataset': 'data/concepts/', 'newest': 'data/concepts/updated_date=2022-05-31/'}, {'dataset': 'data/institutions/', 'newest': 'data/institutions/updated_date=2022-06-01/'}, {'dataset': 'data/merged_ids/', 'newest': 'data/merged_ids/works/'}, {'dataset': 'data/venues/', 'newest': 'data/venues/updated_date=2022-06-03/'}, {'dataset': 'data/works/', 'newest': 'data/works/updated_date=2022-05-28/'}]\n"
     ]
    }
   ],
   "source": [
    "#class openAlex(self):\n",
    "    #todo can probably just sync\n",
    "\n",
    "client = boto3.client('s3')\n",
    "\n",
    "results = client.list_objects_v2(Bucket=\"openalex\", Prefix= \"data/\", Delimiter=\"/\")\n",
    "latestResults = []\n",
    "\n",
    "datasets = []\n",
    "for r in results[\"CommonPrefixes\"]:\n",
    "    datasets.append(r[\"Prefix\"])\n",
    "\n",
    "for d in datasets:\n",
    "    results = client.list_objects_v2(Bucket=\"openalex\", Prefix= d, Delimiter=\"/\")\n",
    "    \n",
    "    dates = []\n",
    "    for r in results[\"CommonPrefixes\"]:\n",
    "        dates.append(r[\"Prefix\"])\n",
    "    \n",
    "    latest = {\"dataset\": d,\n",
    "              \"newest\": max(dates)\n",
    "             }\n",
    "    latestResults.append(latest)\n",
    "    \n",
    "print(latestResults)"
   ]
  },
  {
   "cell_type": "code",
   "execution_count": 97,
   "id": "223ae324-daa8-4804-8a39-19756667efb8",
   "metadata": {},
   "outputs": [
    {
     "name": "stdout",
     "output_type": "stream",
     "text": [
      "ResponseMetadata\n",
      "IsTruncated\n",
      "Contents\n",
      "Name\n",
      "Prefix\n",
      "Delimiter\n",
      "MaxKeys\n",
      "CommonPrefixes\n",
      "EncodingType\n",
      "KeyCount\n"
     ]
    }
   ],
   "source": [
    "for r in results:\n",
    "    print(r)"
   ]
  },
  {
   "cell_type": "code",
   "execution_count": 101,
   "id": "e9ab3e04-40ca-4b78-86f4-e68e2fdac6e4",
   "metadata": {},
   "outputs": [
    {
     "name": "stdout",
     "output_type": "stream",
     "text": [
      "{'Key': 'data/works/manifest', 'LastModified': datetime.datetime(2022, 6, 14, 17, 1, 37, tzinfo=tzutc()), 'ETag': '\"2a8f1d9a81611ff6ad5bf84909b297ce\"', 'Size': 18348, 'StorageClass': 'STANDARD'}\n"
     ]
    }
   ],
   "source": [
    "for r in results[\"Contents\"]:\n",
    "    print(r)"
   ]
  },
  {
   "cell_type": "code",
   "execution_count": 106,
   "id": "915a6023-b5aa-4bb5-98e1-9721c0690888",
   "metadata": {},
   "outputs": [
    {
     "data": {
      "text/plain": [
       "33"
      ]
     },
     "execution_count": 106,
     "metadata": {},
     "output_type": "execute_result"
    }
   ],
   "source": [
    "results[\"KeyCount\"]"
   ]
  },
  {
   "cell_type": "code",
   "execution_count": null,
   "id": "1b87841c-7257-4e8b-8e7a-5d2a81adcfff",
   "metadata": {},
   "outputs": [],
   "source": []
  }
 ],
 "metadata": {
  "kernelspec": {
   "display_name": "Python 3 (ipykernel)",
   "language": "python",
   "name": "python3"
  },
  "language_info": {
   "codemirror_mode": {
    "name": "ipython",
    "version": 3
   },
   "file_extension": ".py",
   "mimetype": "text/x-python",
   "name": "python",
   "nbconvert_exporter": "python",
   "pygments_lexer": "ipython3",
   "version": "3.8.10"
  }
 },
 "nbformat": 4,
 "nbformat_minor": 5
}
