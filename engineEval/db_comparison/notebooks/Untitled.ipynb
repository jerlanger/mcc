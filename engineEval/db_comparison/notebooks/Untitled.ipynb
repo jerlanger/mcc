{
 "cells": [
  {
   "cell_type": "code",
   "execution_count": 10,
   "id": "aaa12457-6323-4d0c-a6d6-ea03eea21b9a",
   "metadata": {},
   "outputs": [],
   "source": [
    "import pandas as pd\n",
    "import numpy as np\n",
    "import matplotlib.pyplot as plt\n",
    "from matplotlib_venn import venn2\n",
    "from matplotlib_venn import venn3"
   ]
  },
  {
   "cell_type": "code",
   "execution_count": 11,
   "id": "a839f3ef-7a10-4149-a471-a470eda29f0f",
   "metadata": {},
   "outputs": [],
   "source": [
    "df_oa = pd.read_csv(\"/home/joe/Downloads/open_alex_query_results.csv\")\n",
    "df_s2 = pd.read_csv(\"../local/query/output/s2_title_scan_fix.tsv\", sep='\\t')\n",
    "\n",
    "df_oa[\"doi\"] = df_oa[\"doi\"].astype('str').str.lower().str.replace('^https:\\/\\/doi.org\\/','', regex=True)\n",
    "df_s2[\"doi\"] = df_s2[\"doi\"].astype('str').str.lower().str.replace('^https:\\/\\/doi.org\\/','', regex=True)"
   ]
  },
  {
   "cell_type": "code",
   "execution_count": 66,
   "id": "08fa7bfc-5894-450b-b639-1fec0c57096b",
   "metadata": {},
   "outputs": [
    {
     "data": {
      "text/plain": [
       "(870, 5)"
      ]
     },
     "execution_count": 66,
     "metadata": {},
     "output_type": "execute_result"
    }
   ],
   "source": [
    "df_s2.shape"
   ]
  },
  {
   "cell_type": "code",
   "execution_count": 13,
   "id": "9211d5c5-855e-4e3a-8982-13b5c813a730",
   "metadata": {},
   "outputs": [
    {
     "name": "stdout",
     "output_type": "stream",
     "text": [
      "614\n",
      "1765\n",
      "1803\n"
     ]
    }
   ],
   "source": [
    "print( df_s2[\"doi\"].unique().size ) # Semantic Scholar Results Unique DOI\n",
    "print( df_oa[\"doi\"].unique().size ) # Open Alex Results Unique DOI\n",
    "print( pd.concat([df_s2[\"doi\"],df_oa[\"doi\"]]).unique().size ) # Combined Results Unique DOI"
   ]
  },
  {
   "cell_type": "code",
   "execution_count": 14,
   "id": "838f971b-cba1-49f7-b531-2405cc00ce72",
   "metadata": {},
   "outputs": [],
   "source": [
    "df_oa_b = df_oa.iloc[:,[1,2,4,7]]"
   ]
  },
  {
   "cell_type": "code",
   "execution_count": 15,
   "id": "f516fe89-6dbc-4cf7-8d3f-1863af490fdc",
   "metadata": {},
   "outputs": [
    {
     "data": {
      "text/html": [
       "<div>\n",
       "<style scoped>\n",
       "    .dataframe tbody tr th:only-of-type {\n",
       "        vertical-align: middle;\n",
       "    }\n",
       "\n",
       "    .dataframe tbody tr th {\n",
       "        vertical-align: top;\n",
       "    }\n",
       "\n",
       "    .dataframe thead th {\n",
       "        text-align: right;\n",
       "    }\n",
       "</style>\n",
       "<table border=\"1\" class=\"dataframe\">\n",
       "  <thead>\n",
       "    <tr style=\"text-align: right;\">\n",
       "      <th></th>\n",
       "      <th>doi</th>\n",
       "      <th>title</th>\n",
       "      <th>publication_year</th>\n",
       "      <th>cited_by_count</th>\n",
       "    </tr>\n",
       "  </thead>\n",
       "  <tbody>\n",
       "    <tr>\n",
       "      <th>0</th>\n",
       "      <td>10.14512/tatup.19.3.38</td>\n",
       "      <td>Carbon Capture and Storage – Politische und ge...</td>\n",
       "      <td>2010</td>\n",
       "      <td>2</td>\n",
       "    </tr>\n",
       "    <tr>\n",
       "      <th>1</th>\n",
       "      <td>10.4095/311151</td>\n",
       "      <td>Carbon capture and storage</td>\n",
       "      <td>2016</td>\n",
       "      <td>2</td>\n",
       "    </tr>\n",
       "    <tr>\n",
       "      <th>2</th>\n",
       "      <td>nan</td>\n",
       "      <td>Precambrian basement tectonics beneath a carbo...</td>\n",
       "      <td>2017</td>\n",
       "      <td>0</td>\n",
       "    </tr>\n",
       "    <tr>\n",
       "      <th>3</th>\n",
       "      <td>nan</td>\n",
       "      <td>Detecting Leakage from Carbon Capture and Stor...</td>\n",
       "      <td>2012</td>\n",
       "      <td>0</td>\n",
       "    </tr>\n",
       "    <tr>\n",
       "      <th>4</th>\n",
       "      <td>nan</td>\n",
       "      <td>Factors affecting stakeholder perception on Ca...</td>\n",
       "      <td>2011</td>\n",
       "      <td>0</td>\n",
       "    </tr>\n",
       "    <tr>\n",
       "      <th>...</th>\n",
       "      <td>...</td>\n",
       "      <td>...</td>\n",
       "      <td>...</td>\n",
       "      <td>...</td>\n",
       "    </tr>\n",
       "    <tr>\n",
       "      <th>2656</th>\n",
       "      <td>10.1016/j.jbiotec.2010.08.199</td>\n",
       "      <td>Assessment of a novel carbon capture and stora...</td>\n",
       "      <td>2010</td>\n",
       "      <td>0</td>\n",
       "    </tr>\n",
       "    <tr>\n",
       "      <th>2657</th>\n",
       "      <td>10.1088/1755-1307/6/17/172030</td>\n",
       "      <td>RECCS : ecological, economic and structural co...</td>\n",
       "      <td>2009</td>\n",
       "      <td>12</td>\n",
       "    </tr>\n",
       "    <tr>\n",
       "      <th>2658</th>\n",
       "      <td>nan</td>\n",
       "      <td>Estimating the Possible Environmental Costs of...</td>\n",
       "      <td>2010</td>\n",
       "      <td>0</td>\n",
       "    </tr>\n",
       "    <tr>\n",
       "      <th>2659</th>\n",
       "      <td>10.1149/1.3429003</td>\n",
       "      <td>Possibility of SOFC using Biomass-fuel and Dis...</td>\n",
       "      <td>2010</td>\n",
       "      <td>2</td>\n",
       "    </tr>\n",
       "    <tr>\n",
       "      <th>2660</th>\n",
       "      <td>nan</td>\n",
       "      <td>CHAPTER 5 - Biomass combustion and chemical lo...</td>\n",
       "      <td>2013</td>\n",
       "      <td>0</td>\n",
       "    </tr>\n",
       "  </tbody>\n",
       "</table>\n",
       "<p>2661 rows × 4 columns</p>\n",
       "</div>"
      ],
      "text/plain": [
       "                                doi  \\\n",
       "0            10.14512/tatup.19.3.38   \n",
       "1                    10.4095/311151   \n",
       "2                               nan   \n",
       "3                               nan   \n",
       "4                               nan   \n",
       "...                             ...   \n",
       "2656  10.1016/j.jbiotec.2010.08.199   \n",
       "2657  10.1088/1755-1307/6/17/172030   \n",
       "2658                            nan   \n",
       "2659              10.1149/1.3429003   \n",
       "2660                            nan   \n",
       "\n",
       "                                                  title  publication_year  \\\n",
       "0     Carbon Capture and Storage – Politische und ge...              2010   \n",
       "1                            Carbon capture and storage              2016   \n",
       "2     Precambrian basement tectonics beneath a carbo...              2017   \n",
       "3     Detecting Leakage from Carbon Capture and Stor...              2012   \n",
       "4     Factors affecting stakeholder perception on Ca...              2011   \n",
       "...                                                 ...               ...   \n",
       "2656  Assessment of a novel carbon capture and stora...              2010   \n",
       "2657  RECCS : ecological, economic and structural co...              2009   \n",
       "2658  Estimating the Possible Environmental Costs of...              2010   \n",
       "2659  Possibility of SOFC using Biomass-fuel and Dis...              2010   \n",
       "2660  CHAPTER 5 - Biomass combustion and chemical lo...              2013   \n",
       "\n",
       "      cited_by_count  \n",
       "0                  2  \n",
       "1                  2  \n",
       "2                  0  \n",
       "3                  0  \n",
       "4                  0  \n",
       "...              ...  \n",
       "2656               0  \n",
       "2657              12  \n",
       "2658               0  \n",
       "2659               2  \n",
       "2660               0  \n",
       "\n",
       "[2661 rows x 4 columns]"
      ]
     },
     "execution_count": 15,
     "metadata": {},
     "output_type": "execute_result"
    }
   ],
   "source": [
    "df_oa_b"
   ]
  },
  {
   "cell_type": "code",
   "execution_count": 16,
   "id": "8b10cfde-8c9b-448e-95cb-fc2fba73ea69",
   "metadata": {},
   "outputs": [],
   "source": [
    "df_s2[\"publication_year\"] = df_s2[\"publication_year\"].fillna(0).astype(int)"
   ]
  },
  {
   "cell_type": "code",
   "execution_count": 17,
   "id": "dfecccbe-ffb7-49c4-bea1-1464fdd10fd8",
   "metadata": {},
   "outputs": [],
   "source": [
    "df_s2_b = df_s2.iloc[:,1:]"
   ]
  },
  {
   "cell_type": "code",
   "execution_count": 32,
   "id": "48858762-9823-417f-8a58-7bf031628fcb",
   "metadata": {},
   "outputs": [],
   "source": [
    "df_s2oa_b = df_s2_b.loc[df_s2_b[\"doi\"] != \"nan\"].merge(df_oa_b.loc[df_oa_b[\"doi\"] != \"nan\"], how=\"outer\", on=\"doi\", suffixes=[\"_s2\",\"_openalex\"])\n",
    "df_s2oa_b[\"publication_year_match\"] = df_s2oa_b[\"publication_year_openalex\"] == df_s2oa_b[\"publication_year_s2\"]\n",
    "df_s2oa_b[\"citation_delta\"] = df_s2oa_b[\"citation_count\"] - df_s2oa_b[\"cited_by_count\"]"
   ]
  },
  {
   "cell_type": "code",
   "execution_count": 35,
   "id": "7f02419f-7727-4272-90d9-007741f52503",
   "metadata": {},
   "outputs": [
    {
     "data": {
      "text/html": [
       "<div>\n",
       "<style scoped>\n",
       "    .dataframe tbody tr th:only-of-type {\n",
       "        vertical-align: middle;\n",
       "    }\n",
       "\n",
       "    .dataframe tbody tr th {\n",
       "        vertical-align: top;\n",
       "    }\n",
       "\n",
       "    .dataframe thead th {\n",
       "        text-align: right;\n",
       "    }\n",
       "</style>\n",
       "<table border=\"1\" class=\"dataframe\">\n",
       "  <thead>\n",
       "    <tr style=\"text-align: right;\">\n",
       "      <th></th>\n",
       "      <th>doi</th>\n",
       "      <th>title_s2</th>\n",
       "      <th>publication_year_s2</th>\n",
       "      <th>citation_count</th>\n",
       "      <th>title_openalex</th>\n",
       "      <th>publication_year_openalex</th>\n",
       "      <th>cited_by_count</th>\n",
       "      <th>publication_year_match</th>\n",
       "      <th>citation_delta</th>\n",
       "    </tr>\n",
       "  </thead>\n",
       "  <tbody>\n",
       "    <tr>\n",
       "      <th>268</th>\n",
       "      <td>10.1016/j.enpol.2007.03.009</td>\n",
       "      <td>Cost and performance of fossil fuel power plan...</td>\n",
       "      <td>2007.0</td>\n",
       "      <td>694.0</td>\n",
       "      <td>Cost and performance of fossil fuel power plan...</td>\n",
       "      <td>2007.0</td>\n",
       "      <td>611.0</td>\n",
       "      <td>True</td>\n",
       "      <td>83.0</td>\n",
       "    </tr>\n",
       "    <tr>\n",
       "      <th>339</th>\n",
       "      <td>10.1002/chin.201248258</td>\n",
       "      <td>Atmospheric Chemistry and Environmental Impact...</td>\n",
       "      <td>2012.0</td>\n",
       "      <td>62.0</td>\n",
       "      <td>Atmospheric Chemistry and Environmental Impact...</td>\n",
       "      <td>2012.0</td>\n",
       "      <td>2.0</td>\n",
       "      <td>True</td>\n",
       "      <td>60.0</td>\n",
       "    </tr>\n",
       "    <tr>\n",
       "      <th>550</th>\n",
       "      <td>10.1007/s10584-005-3484-7</td>\n",
       "      <td>Carbon Capture and Storage From Fossil Fuels a...</td>\n",
       "      <td>2004.0</td>\n",
       "      <td>362.0</td>\n",
       "      <td>Carbon capture and storage from fossil fuels a...</td>\n",
       "      <td>2006.0</td>\n",
       "      <td>304.0</td>\n",
       "      <td>False</td>\n",
       "      <td>58.0</td>\n",
       "    </tr>\n",
       "    <tr>\n",
       "      <th>594</th>\n",
       "      <td>10.1016/j.pecs.2011.11.002</td>\n",
       "      <td>Carbon capture and storage using alkaline indu...</td>\n",
       "      <td>2012.0</td>\n",
       "      <td>391.0</td>\n",
       "      <td>Carbon capture and storage using alkaline indu...</td>\n",
       "      <td>2012.0</td>\n",
       "      <td>333.0</td>\n",
       "      <td>True</td>\n",
       "      <td>58.0</td>\n",
       "    </tr>\n",
       "    <tr>\n",
       "      <th>286</th>\n",
       "      <td>10.1007/s10584-010-9832-7</td>\n",
       "      <td>The feasibility of low CO2 concentration targe...</td>\n",
       "      <td>2010.0</td>\n",
       "      <td>288.0</td>\n",
       "      <td>The feasibility of low CO2 concentration targe...</td>\n",
       "      <td>2010.0</td>\n",
       "      <td>234.0</td>\n",
       "      <td>True</td>\n",
       "      <td>54.0</td>\n",
       "    </tr>\n",
       "    <tr>\n",
       "      <th>...</th>\n",
       "      <td>...</td>\n",
       "      <td>...</td>\n",
       "      <td>...</td>\n",
       "      <td>...</td>\n",
       "      <td>...</td>\n",
       "      <td>...</td>\n",
       "      <td>...</td>\n",
       "      <td>...</td>\n",
       "      <td>...</td>\n",
       "    </tr>\n",
       "    <tr>\n",
       "      <th>1805</th>\n",
       "      <td>10.1260/0958-305x.23.2-3.409</td>\n",
       "      <td>NaN</td>\n",
       "      <td>NaN</td>\n",
       "      <td>NaN</td>\n",
       "      <td>Carbon Capture and Storage - A Pragmatic Way t...</td>\n",
       "      <td>2012.0</td>\n",
       "      <td>0.0</td>\n",
       "      <td>False</td>\n",
       "      <td>NaN</td>\n",
       "    </tr>\n",
       "    <tr>\n",
       "      <th>1806</th>\n",
       "      <td>10.25560/14512</td>\n",
       "      <td>NaN</td>\n",
       "      <td>NaN</td>\n",
       "      <td>NaN</td>\n",
       "      <td>Carbon Capture and Storage the Clean Developme...</td>\n",
       "      <td>2012.0</td>\n",
       "      <td>0.0</td>\n",
       "      <td>False</td>\n",
       "      <td>NaN</td>\n",
       "    </tr>\n",
       "    <tr>\n",
       "      <th>1807</th>\n",
       "      <td>10.1016/j.jbiotec.2010.08.199</td>\n",
       "      <td>NaN</td>\n",
       "      <td>NaN</td>\n",
       "      <td>NaN</td>\n",
       "      <td>Assessment of a novel carbon capture and stora...</td>\n",
       "      <td>2010.0</td>\n",
       "      <td>0.0</td>\n",
       "      <td>False</td>\n",
       "      <td>NaN</td>\n",
       "    </tr>\n",
       "    <tr>\n",
       "      <th>1808</th>\n",
       "      <td>10.1088/1755-1307/6/17/172030</td>\n",
       "      <td>NaN</td>\n",
       "      <td>NaN</td>\n",
       "      <td>NaN</td>\n",
       "      <td>RECCS : ecological, economic and structural co...</td>\n",
       "      <td>2009.0</td>\n",
       "      <td>12.0</td>\n",
       "      <td>False</td>\n",
       "      <td>NaN</td>\n",
       "    </tr>\n",
       "    <tr>\n",
       "      <th>1809</th>\n",
       "      <td>10.1149/1.3429003</td>\n",
       "      <td>NaN</td>\n",
       "      <td>NaN</td>\n",
       "      <td>NaN</td>\n",
       "      <td>Possibility of SOFC using Biomass-fuel and Dis...</td>\n",
       "      <td>2010.0</td>\n",
       "      <td>2.0</td>\n",
       "      <td>False</td>\n",
       "      <td>NaN</td>\n",
       "    </tr>\n",
       "  </tbody>\n",
       "</table>\n",
       "<p>1810 rows × 9 columns</p>\n",
       "</div>"
      ],
      "text/plain": [
       "                                doi  \\\n",
       "268     10.1016/j.enpol.2007.03.009   \n",
       "339          10.1002/chin.201248258   \n",
       "550       10.1007/s10584-005-3484-7   \n",
       "594      10.1016/j.pecs.2011.11.002   \n",
       "286       10.1007/s10584-010-9832-7   \n",
       "...                             ...   \n",
       "1805   10.1260/0958-305x.23.2-3.409   \n",
       "1806                 10.25560/14512   \n",
       "1807  10.1016/j.jbiotec.2010.08.199   \n",
       "1808  10.1088/1755-1307/6/17/172030   \n",
       "1809              10.1149/1.3429003   \n",
       "\n",
       "                                               title_s2  publication_year_s2  \\\n",
       "268   Cost and performance of fossil fuel power plan...               2007.0   \n",
       "339   Atmospheric Chemistry and Environmental Impact...               2012.0   \n",
       "550   Carbon Capture and Storage From Fossil Fuels a...               2004.0   \n",
       "594   Carbon capture and storage using alkaline indu...               2012.0   \n",
       "286   The feasibility of low CO2 concentration targe...               2010.0   \n",
       "...                                                 ...                  ...   \n",
       "1805                                                NaN                  NaN   \n",
       "1806                                                NaN                  NaN   \n",
       "1807                                                NaN                  NaN   \n",
       "1808                                                NaN                  NaN   \n",
       "1809                                                NaN                  NaN   \n",
       "\n",
       "      citation_count                                     title_openalex  \\\n",
       "268            694.0  Cost and performance of fossil fuel power plan...   \n",
       "339             62.0  Atmospheric Chemistry and Environmental Impact...   \n",
       "550            362.0  Carbon capture and storage from fossil fuels a...   \n",
       "594            391.0  Carbon capture and storage using alkaline indu...   \n",
       "286            288.0  The feasibility of low CO2 concentration targe...   \n",
       "...              ...                                                ...   \n",
       "1805             NaN  Carbon Capture and Storage - A Pragmatic Way t...   \n",
       "1806             NaN  Carbon Capture and Storage the Clean Developme...   \n",
       "1807             NaN  Assessment of a novel carbon capture and stora...   \n",
       "1808             NaN  RECCS : ecological, economic and structural co...   \n",
       "1809             NaN  Possibility of SOFC using Biomass-fuel and Dis...   \n",
       "\n",
       "      publication_year_openalex  cited_by_count  publication_year_match  \\\n",
       "268                      2007.0           611.0                    True   \n",
       "339                      2012.0             2.0                    True   \n",
       "550                      2006.0           304.0                   False   \n",
       "594                      2012.0           333.0                    True   \n",
       "286                      2010.0           234.0                    True   \n",
       "...                         ...             ...                     ...   \n",
       "1805                     2012.0             0.0                   False   \n",
       "1806                     2012.0             0.0                   False   \n",
       "1807                     2010.0             0.0                   False   \n",
       "1808                     2009.0            12.0                   False   \n",
       "1809                     2010.0             2.0                   False   \n",
       "\n",
       "      citation_delta  \n",
       "268             83.0  \n",
       "339             60.0  \n",
       "550             58.0  \n",
       "594             58.0  \n",
       "286             54.0  \n",
       "...              ...  \n",
       "1805             NaN  \n",
       "1806             NaN  \n",
       "1807             NaN  \n",
       "1808             NaN  \n",
       "1809             NaN  \n",
       "\n",
       "[1810 rows x 9 columns]"
      ]
     },
     "execution_count": 35,
     "metadata": {},
     "output_type": "execute_result"
    }
   ],
   "source": [
    "df_s2oa_b.sort_values(\"citation_delta\", ascending=False)"
   ]
  },
  {
   "cell_type": "code",
   "execution_count": 49,
   "id": "72213db0-c4c1-452d-9def-3af935a4b938",
   "metadata": {},
   "outputs": [
    {
     "data": {
      "text/plain": [
       "array([ True, False, False, ..., False, False, False])"
      ]
     },
     "execution_count": 49,
     "metadata": {},
     "output_type": "execute_result"
    }
   ],
   "source": [
    "np.where(np.in1d(df_s2oa_b[\"publication_year_openalex\"],[2012,2015]),True,False)"
   ]
  },
  {
   "cell_type": "code",
   "execution_count": 52,
   "id": "b62ece2e-831a-4648-939e-7904272aa87d",
   "metadata": {},
   "outputs": [
    {
     "data": {
      "text/plain": [
       "array([ True, False, False, ..., False, False, False])"
      ]
     },
     "execution_count": 52,
     "metadata": {},
     "output_type": "execute_result"
    }
   ],
   "source": [
    "np.where((df_s2oa_b[\"publication_year_openalex\"] >= 2012) & (df_s2oa_b[\"publication_year_openalex\"] <= 2015),True,False)"
   ]
  },
  {
   "cell_type": "code",
   "execution_count": 56,
   "id": "8fe727ce-c58d-4ace-9609-21a36b8346d4",
   "metadata": {},
   "outputs": [
    {
     "data": {
      "text/plain": [
       "array([ True, False, False, ..., False, False, False])"
      ]
     },
     "execution_count": 56,
     "metadata": {},
     "output_type": "execute_result"
    }
   ],
   "source": [
    "np.where(df_s2oa_b[\"publication_year_openalex\"].isin([2012,2015]),True,False)"
   ]
  },
  {
   "cell_type": "code",
   "execution_count": 63,
   "id": "36591585-df39-4e20-af94-53c667f7d3c0",
   "metadata": {},
   "outputs": [
    {
     "data": {
      "text/plain": [
       "array([ True, False, False, ..., False, False, False])"
      ]
     },
     "execution_count": 63,
     "metadata": {},
     "output_type": "execute_result"
    }
   ],
   "source": [
    "np.where(df_s2oa_b[\"publication_year_openalex\"].between(2012,2015),True,False)"
   ]
  }
 ],
 "metadata": {
  "kernelspec": {
   "display_name": "Python 3 (ipykernel)",
   "language": "python",
   "name": "python3"
  },
  "language_info": {
   "codemirror_mode": {
    "name": "ipython",
    "version": 3
   },
   "file_extension": ".py",
   "mimetype": "text/x-python",
   "name": "python",
   "nbconvert_exporter": "python",
   "pygments_lexer": "ipython3",
   "version": "3.10.6"
  }
 },
 "nbformat": 4,
 "nbformat_minor": 5
}
