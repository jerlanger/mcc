{
 "cells": [
  {
   "cell_type": "code",
   "execution_count": 1,
   "id": "6ab8bbcc-31e0-4ab0-bf82-01da9e2b0ce7",
   "metadata": {},
   "outputs": [],
   "source": [
    "import pandas as pd\n",
    "import numpy as np\n",
    "import matplotlib.pyplot as plt"
   ]
  },
  {
   "cell_type": "code",
   "execution_count": 28,
   "id": "e321032e-4b0c-47ab-918f-363bf53e2585",
   "metadata": {},
   "outputs": [],
   "source": [
    "df_oa = pd.read_csv(\"../../../pgETL/local/tickets/13/dataset_journals/open_alex_venues_carbon_price-2022-12-01_101211.csv\").iloc[:,[0,1,3]]\n",
    "df_s2 = pd.read_csv(\"../../../pgETL/local/tickets/13/dataset_journals/s_2_venues_carbon_price-2022-12-01_101731.csv\")\n",
    "df_ws = pd.read_csv(\"../../../pgETL/local/tickets/13/dataset_journals/webofscience_pubs_12012022.csv\", index_col = 0)\n",
    "df_sp = pd.read_csv(\"../../../pgETL/local/tickets/13/dataset_journals/scopus_pubs_12012022.csv\", index_col = 0)"
   ]
  },
  {
   "cell_type": "code",
   "execution_count": 31,
   "id": "6ba4ab12-2416-405f-8ce4-e144da045ac6",
   "metadata": {},
   "outputs": [],
   "source": [
    "df_oa[\"display_name\"] = df_oa[\"display_name\"].str.lower()\n",
    "df_oa[\"publisher\"] = df_oa[\"publisher\"].str.lower()"
   ]
  },
  {
   "cell_type": "code",
   "execution_count": 42,
   "id": "8d2d0662-5254-4fbf-a3e8-2817e664ae7e",
   "metadata": {},
   "outputs": [],
   "source": [
    "df_s2[\"publication_venue\"] = df_s2[\"publication_venue\"].str.replace('^(\")','', regex=True).str.replace('(\")$','',regex=True).str.lower()"
   ]
  },
  {
   "cell_type": "code",
   "execution_count": 54,
   "id": "43e53af8-7a43-41a6-859e-5d2056a46798",
   "metadata": {},
   "outputs": [],
   "source": [
    "df_ws[\"display_name\"] = df_ws[\"Source Title\"].str.lower()\n",
    "df_ws[\"publisher\"] = df_ws[\"Publisher\"].str.lower()\n",
    "\n",
    "df_ws = df_ws.drop([\"Source Title\",\"Publisher\"], axis=1)"
   ]
  },
  {
   "cell_type": "code",
   "execution_count": 60,
   "id": "a2312e6a-2503-4ff3-9702-1dc752c8dc4f",
   "metadata": {},
   "outputs": [],
   "source": [
    "df_sp[\"display_name\"] = df_sp[\"Source title\"].str.lower()\n",
    "df_sp = df_sp.drop([\"Source title\"], axis=1)\n",
    "df_sp.set_index(\"display_name\", inplace=True).to_csv(\"sp_fix.csv\")"
   ]
  },
  {
   "cell_type": "code",
   "execution_count": 87,
   "id": "9af7cc45-2992-4ab9-8b6f-320b00b9a43c",
   "metadata": {},
   "outputs": [],
   "source": [
    "df_ws.set_index([\"display_name\"]).to_csv(\"ws_fix.csv\")"
   ]
  },
  {
   "cell_type": "code",
   "execution_count": 91,
   "id": "9335376b-8514-4395-9b0d-e72719f093dc",
   "metadata": {},
   "outputs": [],
   "source": [
    "df_oa.set_index(\"display_name\").to_csv(\"oa_fix.csv\")"
   ]
  },
  {
   "cell_type": "code",
   "execution_count": 93,
   "id": "d43e085c-63f6-4da3-832e-570c0ba84b9b",
   "metadata": {},
   "outputs": [],
   "source": [
    "df_s2.set_index(\"publication_venue\").to_csv(\"s2_fix.csv\")"
   ]
  }
 ],
 "metadata": {
  "kernelspec": {
   "display_name": "Python 3 (ipykernel)",
   "language": "python",
   "name": "python3"
  },
  "language_info": {
   "codemirror_mode": {
    "name": "ipython",
    "version": 3
   },
   "file_extension": ".py",
   "mimetype": "text/x-python",
   "name": "python",
   "nbconvert_exporter": "python",
   "pygments_lexer": "ipython3",
   "version": "3.9.12"
  }
 },
 "nbformat": 4,
 "nbformat_minor": 5
}
