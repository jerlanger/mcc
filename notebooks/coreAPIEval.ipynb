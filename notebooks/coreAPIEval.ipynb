{
 "cells": [
  {
   "cell_type": "code",
   "execution_count": 1,
   "id": "eefc61ce-8bcf-400a-ba26-5f02bb2bf102",
   "metadata": {},
   "outputs": [],
   "source": [
    "import requests\n",
    "import pandas as pd\n",
    "import numpy as np\n",
    "import pandas_profiling as pp\n",
    "from ratelimit import limits, RateLimitException, sleep_and_retry\n",
    "from backoff import on_exception, expo\n",
    "from local.config import core"
   ]
  },
  {
   "cell_type": "code",
   "execution_count": 250,
   "id": "bdfad5a3-ce43-4ea8-b745-d34ccc648270",
   "metadata": {},
   "outputs": [],
   "source": [
    "# CORE API 3.0.0 BETA #\n",
    "\n",
    "apikey = core.api_key\n",
    "\n",
    "@sleep_and_retry\n",
    "@limits(calls=4, period=100)\n",
    "def query_api(query, scrollId=None):\n",
    "    \n",
    "    headers={\"Authorization\":\"Bearer \"+apikey}\n",
    "    search_url = \"https://api.core.ac.uk/v3/search/works\"\n",
    "    \n",
    "    if not scrollId:\n",
    "        response = requests.get(f\"{search_url}?q={query}&limit=75&scroll=true\",headers=headers)\n",
    "    else:\n",
    "        response = requests.get(f\"{search_url}?q={query}&limit=75&scrollId={scrollId}\",headers=headers)        \n",
    "    \n",
    "    headers = response.headers\n",
    "    status_code = response.status_code\n",
    "    print(f\"Code: {status_code} | RateLimit: {headers['X-RateLimit-Remaining']} / {headers['X-RateLimit-Limit']} | Retry: {headers['X-RateLimit-Retry-After']}\")\n",
    "        \n",
    "    hit = response.json()\n",
    "    \n",
    "    if \"results\" in hit:\n",
    "        for element in hit[\"results\"]: \n",
    "            if \"fullText\" in element:\n",
    "                del element[\"fullText\"]\n",
    "\n",
    "    return hit, status_code\n",
    "\n",
    "def scroll(query):\n",
    "    allResults = []\n",
    "    scrollId = None\n",
    "    \n",
    "    result, status_code = query_api(query)\n",
    "    \n",
    "    scrollId = result[\"scrollId\"]\n",
    "    totalHits = int(result[\"totalHits\"])\n",
    "    hitCount = int(result[\"offset\"]) + int(result[\"limit\"])\n",
    "    allResults.append(result[\"results\"])\n",
    "    print(f\"{hitCount} < {totalHits}\")\n",
    "    \n",
    "    while (scrollId is not None) & (hitCount < totalHits):\n",
    "        result, status_code = query_api(query, scrollId=scrollId)\n",
    "        \n",
    "        if \"results\" in result:\n",
    "            scrollId = result[\"scrollId\"]\n",
    "            hitCount = hitCount + int(result[\"limit\"])\n",
    "            print(f\"{hitCount} < {totalHits}\")\n",
    "            allResults.append(result[\"results\"])\n",
    "        elif status_code == 500:\n",
    "            continue\n",
    "        else:\n",
    "            break\n",
    "    \n",
    "    return allResults\n",
    "\n",
    "def clean_results(results):\n",
    "    \n",
    "    \n",
    "    def parse_journal_name(row):\n",
    "        for x in row:\n",
    "            if len(x) > 0:\n",
    "                return x[\"title\"]\n",
    "            else:\n",
    "                return \"N/A\"\n",
    "\n",
    "    def parse_identifiers(row):\n",
    "        for x in row:\n",
    "            if len(x) > 0:\n",
    "                return x[\"identifiers\"]\n",
    "            else:\n",
    "                return \"N/A\"\n",
    "        \n",
    "    def parse_identifiers_issn(row):\n",
    "        id_array = []\n",
    "        if row is not None:\n",
    "            for x in row:\n",
    "                if not x.startswith(\"issn\"):\n",
    "                    id_array.append(x)\n",
    "\n",
    "            return id_array\n",
    "\n",
    "    results = [item for sublist in results for item in sublist]\n",
    "\n",
    "    keep_col = [\"id\",\"magId\",\"oaiIds\",\"doi\",\"documentType\",\"title\",\"abstract\",\"publisher\",\"yearPublished\",\"journals\",\"dataProviders\",\"identifiers\",\"authors\"]\n",
    "\n",
    "    df = pd.DataFrame(results).loc[:,keep_col]\n",
    "    df[\"lcase_ttl\"] = df[\"title\"].str.lower()\n",
    "    df[\"abstract\"] = df[\"abstract\"].str.lower()\n",
    "    df[\"publisher\"] = df[\"publisher\"].str.lower().apply(lambda x: x[1:-1] if x.startswith(\"'\") & x.endswith(\"'\") else x)\n",
    "    df[\"pubyear\"] = df[\"yearPublished\"].fillna(0).astype(int)    \n",
    "    df[\"documentType\"] = df[\"documentType\"].apply(lambda x: None if x == \"\" else x)\n",
    "    \n",
    "    df[\"journal_name\"] = df[\"journals\"].apply(lambda x: parse_journal_name(x))\n",
    "    df[\"identifiers\"] = df[\"journals\"].apply(lambda x: parse_identifiers(x))\n",
    "    df[\"issns\"] = df[\"identifiers\"].apply(lambda x: parse_identifiers_issn(x))\n",
    "    \n",
    "    df.drop(columns=[\"yearPublished\",\"journals\",\"identifiers\",\"title\"], inplace=True)\n",
    "    \n",
    "    return df"
   ]
  },
  {
   "cell_type": "code",
   "execution_count": 7,
   "id": "d26c201c-2703-47ac-8397-cb9b86da646c",
   "metadata": {},
   "outputs": [
    {
     "name": "stdout",
     "output_type": "stream",
     "text": [
      "Code: 200 | RateLimit: 8 / 10 | Retry: 2022-05-10T10:19:56+0000\n",
      "75 < 675\n",
      "Code: 200 | RateLimit: 6 / 10 | Retry: 2022-05-10T10:19:59+0000\n",
      "150 < 675\n",
      "Code: 200 | RateLimit: 4 / 10 | Retry: 2022-05-10T10:20:03+0000\n",
      "225 < 675\n",
      "Code: 200 | RateLimit: 2 / 10 | Retry: 2022-05-10T10:20:06+0000\n",
      "300 < 675\n",
      "Code: 200 | RateLimit: 8 / 10 | Retry: 2022-05-10T10:21:37+0000\n",
      "375 < 675\n",
      "Code: 200 | RateLimit: 6 / 10 | Retry: 2022-05-10T10:21:44+0000\n",
      "450 < 675\n",
      "Code: 200 | RateLimit: 4 / 10 | Retry: 2022-05-10T10:21:53+0000\n",
      "525 < 675\n",
      "Code: 200 | RateLimit: 2 / 10 | Retry: 2022-05-10T10:22:01+0000\n",
      "600 < 675\n",
      "Code: 500 | RateLimit: 8, 8 / 10, 10 | Retry: 2022-05-10T10:23:18+0000, 2022-05-10T10:23:18+0000\n",
      "Code: 200 | RateLimit: 6 / 10 | Retry: 2022-05-10T10:23:19+0000\n",
      "675 < 675\n"
     ]
    }
   ],
   "source": [
    "q = '((\"c02 capture and storage\")+OR+(\"carbon capture and storage\"))+(utili?ation+OR+usage)+yearPublished:2015'\n",
    "q2_2015 = scroll(q)"
   ]
  },
  {
   "cell_type": "code",
   "execution_count": 8,
   "id": "2ef415e9-2564-4a29-8536-bd9f3326379f",
   "metadata": {},
   "outputs": [
    {
     "name": "stdout",
     "output_type": "stream",
     "text": [
      "Code: 200 | RateLimit: 8 / 10 | Retry: 2022-05-10T10:25:31+0000\n",
      "75 < 456\n",
      "Code: 200 | RateLimit: 6 / 10 | Retry: 2022-05-10T10:25:36+0000\n",
      "150 < 456\n",
      "Code: 200 | RateLimit: 4 / 10 | Retry: 2022-05-10T10:25:41+0000\n",
      "225 < 456\n",
      "Code: 200 | RateLimit: 2 / 10 | Retry: 2022-05-10T10:25:49+0000\n",
      "300 < 456\n",
      "Code: 200 | RateLimit: 8 / 10 | Retry: 2022-05-10T10:27:13+0000\n",
      "375 < 456\n",
      "Code: 200 | RateLimit: 6 / 10 | Retry: 2022-05-10T10:27:22+0000\n",
      "450 < 456\n",
      "Code: 200 | RateLimit: 4 / 10 | Retry: 2022-05-10T10:27:27+0000\n",
      "525 < 456\n"
     ]
    }
   ],
   "source": [
    "q_2021 = '((\"c02 capture and storage\")+OR+(\"carbon capture and storage\"))+(utili?ation+OR+usage)+yearPublished:2021'\n",
    "q2_2021 = scroll(q_2021)"
   ]
  },
  {
   "cell_type": "code",
   "execution_count": 9,
   "id": "727649b3-b93b-47c2-adc4-1f083fbb73d2",
   "metadata": {},
   "outputs": [
    {
     "name": "stdout",
     "output_type": "stream",
     "text": [
      "Code: 200 | RateLimit: 8 / 10 | Retry: 2022-05-10T10:29:59+0000\n",
      "75 < 9\n"
     ]
    }
   ],
   "source": [
    "q_2022 = '((\"c02 capture and storage\")+OR+(\"carbon capture and storage\"))+(utili?ation+OR+usage)+yearPublished:2022'\n",
    "q2_2022 = scroll(q_2022)"
   ]
  },
  {
   "cell_type": "code",
   "execution_count": 251,
   "id": "4849517a-4a0f-4937-a5d8-cf838ab4fb11",
   "metadata": {},
   "outputs": [],
   "source": [
    "df_q2 = pd.concat([clean_results(q2_2015),clean_results(q2_2021),clean_results(q2_2022)], ignore_index=True)"
   ]
  },
  {
   "cell_type": "code",
   "execution_count": 295,
   "id": "3145f6d4-29b8-4917-973f-b465adaecf78",
   "metadata": {},
   "outputs": [],
   "source": [
    "#df_q2"
   ]
  },
  {
   "cell_type": "code",
   "execution_count": 288,
   "id": "c58ee9a5-cbd7-4d00-8ab2-b0d8ec9467b8",
   "metadata": {},
   "outputs": [],
   "source": [
    "dataProviders = df_q2[\"dataProviders\"].explode(\"dataProviders\").drop_duplicates()"
   ]
  },
  {
   "cell_type": "code",
   "execution_count": null,
   "id": "952e3131-524d-475d-a57c-e590e70b258a",
   "metadata": {},
   "outputs": [],
   "source": []
  }
 ],
 "metadata": {
  "kernelspec": {
   "display_name": "Python 3 (ipykernel)",
   "language": "python",
   "name": "python3"
  },
  "language_info": {
   "codemirror_mode": {
    "name": "ipython",
    "version": 3
   },
   "file_extension": ".py",
   "mimetype": "text/x-python",
   "name": "python",
   "nbconvert_exporter": "python",
   "pygments_lexer": "ipython3",
   "version": "3.9.12"
  }
 },
 "nbformat": 4,
 "nbformat_minor": 5
}
