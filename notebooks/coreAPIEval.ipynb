{
 "cells": [
  {
   "cell_type": "code",
   "execution_count": 1,
   "id": "eefc61ce-8bcf-400a-ba26-5f02bb2bf102",
   "metadata": {},
   "outputs": [],
   "source": [
    "import requests\n",
    "import pandas as pd\n",
    "import numpy as np\n",
    "from ratelimit import limits, RateLimitException, sleep_and_retry\n",
    "from backoff import on_exception, expo"
   ]
  },
  {
   "cell_type": "code",
   "execution_count": 2,
   "id": "bdfad5a3-ce43-4ea8-b745-d34ccc648270",
   "metadata": {},
   "outputs": [],
   "source": [
    "# CORE API 3.0.0 BETA #\n",
    "\n",
    "apikey = \"ouRpyQ48PL2n0rxTd6SKG3OMWcqCBiJs\"\n",
    "\n",
    "#@on_exception(expo, RateLimitException, max_tries=5)\n",
    "@sleep_and_retry\n",
    "@limits(calls=5, period=61)\n",
    "def query_api(query, scrollId=None):\n",
    "    \n",
    "    headers={\"Authorization\":\"Bearer \"+apikey}\n",
    "    search_url = \"https://api.core.ac.uk/v3/search/works\"\n",
    "    \n",
    "    if not scrollId:\n",
    "        response = requests.get(f\"{search_url}?q={query}&limit=50&scroll=true\",headers=headers)\n",
    "    else:\n",
    "        response = requests.get(f\"{search_url}?q={query}&limit=50&scrollId={scrollId}\",headers=headers)        \n",
    "    \n",
    "    print(response.status_code)\n",
    "    print(response.headers)\n",
    "    if response.status_code != 200:\n",
    "        raise Exception(f\"API response: {response.status_code}\")\n",
    "        \n",
    "    hit = response.json()\n",
    "    \n",
    "    for element in hit[\"results\"]: \n",
    "        if \"fullText\" in element:\n",
    "            del element[\"fullText\"]\n",
    "\n",
    "    return hit\n",
    "\n",
    "def iter_query(query):\n",
    "    allResults = []\n",
    "    scrollId = None\n",
    "    \n",
    "    result = query_api(query)\n",
    "    \n",
    "    allResults.append(result[\"results\"])\n",
    "    scrollId = result[\"scrollId\"]\n",
    "    while scrollId is not None:\n",
    "        result = query_api(query, scrollId=scrollId)\n",
    "        scrollId = result[\"scrollId\"]\n",
    "        allResults.append(result[\"results\"])"
   ]
  },
  {
   "cell_type": "code",
   "execution_count": null,
   "id": "d26c201c-2703-47ac-8397-cb9b86da646c",
   "metadata": {},
   "outputs": [],
   "source": [
    "test = iter_query(\"katonah+baseball\")\n",
    "test"
   ]
  }
 ],
 "metadata": {
  "kernelspec": {
   "display_name": "Python 3 (ipykernel)",
   "language": "python",
   "name": "python3"
  },
  "language_info": {
   "codemirror_mode": {
    "name": "ipython",
    "version": 3
   },
   "file_extension": ".py",
   "mimetype": "text/x-python",
   "name": "python",
   "nbconvert_exporter": "python",
   "pygments_lexer": "ipython3",
   "version": "3.8.10"
  }
 },
 "nbformat": 4,
 "nbformat_minor": 5
}
