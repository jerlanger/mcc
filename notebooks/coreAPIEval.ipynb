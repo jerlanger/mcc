{
 "cells": [
  {
   "cell_type": "code",
   "execution_count": 1,
   "id": "eefc61ce-8bcf-400a-ba26-5f02bb2bf102",
   "metadata": {},
   "outputs": [],
   "source": [
    "import requests\n",
    "import pandas as pd\n",
    "import numpy as np\n",
    "from ratelimit import limits, RateLimitException, sleep_and_retry\n",
    "from backoff import on_exception, expo"
   ]
  },
  {
   "cell_type": "code",
   "execution_count": 68,
   "id": "bdfad5a3-ce43-4ea8-b745-d34ccc648270",
   "metadata": {},
   "outputs": [],
   "source": [
    "# CORE API 3.0.0 BETA #\n",
    "\n",
    "apikey = \"api\"\n",
    "\n",
    "#@on_exception(expo, RateLimitException, max_tries=5)\n",
    "@sleep_and_retry\n",
    "@limits(calls=5, period=61)\n",
    "def query_api(query, scrollId=None):\n",
    "    \n",
    "    headers={\"Authorization\":\"Bearer \"+apikey}\n",
    "    search_url = \"https://api.core.ac.uk/v3/search/works\"\n",
    "    \n",
    "    if not scrollId:\n",
    "        response = requests.get(f\"{search_url}?q={query}&limit=550&scroll=true\",headers=headers)\n",
    "    else:\n",
    "        response = requests.get(f\"{search_url}?q={query}&limit=550&scrollId={scrollId}\",headers=headers)        \n",
    "    \n",
    "    print(response.status_code)\n",
    "    #print(response.headers)\n",
    "    if response.status_code != 200:\n",
    "        raise Exception(f\"API response: {response.status_code}\")\n",
    "        \n",
    "    hit = response.json()\n",
    "    \n",
    "    for element in hit[\"results\"]: \n",
    "        if \"fullText\" in element:\n",
    "            del element[\"fullText\"]\n",
    "\n",
    "    return hit\n",
    "\n",
    "def iter_query(query):\n",
    "    allResults = []\n",
    "    scrollId = None\n",
    "    \n",
    "    result = query_api(query)\n",
    "    \n",
    "    allResults.append(result[\"results\"])\n",
    "    scrollId = result[\"scrollId\"]\n",
    "    while scrollId is not None:\n",
    "        result = query_api(query, scrollId=scrollId)\n",
    "        scrollId = result[\"scrollId\"]\n",
    "        allResults.append(result[\"results\"])\n",
    "    \n",
    "    return allResults"
   ]
  },
  {
   "cell_type": "code",
   "execution_count": 74,
   "id": "d26c201c-2703-47ac-8397-cb9b86da646c",
   "metadata": {},
   "outputs": [
    {
     "name": "stdout",
     "output_type": "stream",
     "text": [
      "500\n"
     ]
    },
    {
     "ename": "Exception",
     "evalue": "API response: 500",
     "output_type": "error",
     "traceback": [
      "\u001b[0;31m---------------------------------------------------------------------------\u001b[0m",
      "\u001b[0;31mException\u001b[0m                                 Traceback (most recent call last)",
      "\u001b[0;32m/var/folders/m5/k6j2dsz10sx8wy7k5lth31lh0000gn/T/ipykernel_41765/2980194336.py\u001b[0m in \u001b[0;36m<module>\u001b[0;34m\u001b[0m\n\u001b[0;32m----> 1\u001b[0;31m \u001b[0mtest\u001b[0m \u001b[0;34m=\u001b[0m \u001b[0mquery_api\u001b[0m\u001b[0;34m(\u001b[0m\u001b[0;34m\"emission+reduction\"\u001b[0m\u001b[0;34m)\u001b[0m\u001b[0;34m\u001b[0m\u001b[0;34m\u001b[0m\u001b[0m\n\u001b[0m",
      "\u001b[0;32m/usr/local/lib/python3.9/site-packages/ratelimit/decorators.py\u001b[0m in \u001b[0;36mwrapper\u001b[0;34m(*args, **kargs)\u001b[0m\n\u001b[1;32m    111\u001b[0m         \u001b[0;32mwhile\u001b[0m \u001b[0;32mTrue\u001b[0m\u001b[0;34m:\u001b[0m\u001b[0;34m\u001b[0m\u001b[0;34m\u001b[0m\u001b[0m\n\u001b[1;32m    112\u001b[0m             \u001b[0;32mtry\u001b[0m\u001b[0;34m:\u001b[0m\u001b[0;34m\u001b[0m\u001b[0;34m\u001b[0m\u001b[0m\n\u001b[0;32m--> 113\u001b[0;31m                 \u001b[0;32mreturn\u001b[0m \u001b[0mfunc\u001b[0m\u001b[0;34m(\u001b[0m\u001b[0;34m*\u001b[0m\u001b[0margs\u001b[0m\u001b[0;34m,\u001b[0m \u001b[0;34m**\u001b[0m\u001b[0mkargs\u001b[0m\u001b[0;34m)\u001b[0m\u001b[0;34m\u001b[0m\u001b[0;34m\u001b[0m\u001b[0m\n\u001b[0m\u001b[1;32m    114\u001b[0m             \u001b[0;32mexcept\u001b[0m \u001b[0mRateLimitException\u001b[0m \u001b[0;32mas\u001b[0m \u001b[0mexception\u001b[0m\u001b[0;34m:\u001b[0m\u001b[0;34m\u001b[0m\u001b[0;34m\u001b[0m\u001b[0m\n\u001b[1;32m    115\u001b[0m                 \u001b[0mtime\u001b[0m\u001b[0;34m.\u001b[0m\u001b[0msleep\u001b[0m\u001b[0;34m(\u001b[0m\u001b[0mexception\u001b[0m\u001b[0;34m.\u001b[0m\u001b[0mperiod_remaining\u001b[0m\u001b[0;34m)\u001b[0m\u001b[0;34m\u001b[0m\u001b[0;34m\u001b[0m\u001b[0m\n",
      "\u001b[0;32m/usr/local/lib/python3.9/site-packages/ratelimit/decorators.py\u001b[0m in \u001b[0;36mwrapper\u001b[0;34m(*args, **kargs)\u001b[0m\n\u001b[1;32m     78\u001b[0m                     \u001b[0;32mreturn\u001b[0m\u001b[0;34m\u001b[0m\u001b[0;34m\u001b[0m\u001b[0m\n\u001b[1;32m     79\u001b[0m \u001b[0;34m\u001b[0m\u001b[0m\n\u001b[0;32m---> 80\u001b[0;31m             \u001b[0;32mreturn\u001b[0m \u001b[0mfunc\u001b[0m\u001b[0;34m(\u001b[0m\u001b[0;34m*\u001b[0m\u001b[0margs\u001b[0m\u001b[0;34m,\u001b[0m \u001b[0;34m**\u001b[0m\u001b[0mkargs\u001b[0m\u001b[0;34m)\u001b[0m\u001b[0;34m\u001b[0m\u001b[0;34m\u001b[0m\u001b[0m\n\u001b[0m\u001b[1;32m     81\u001b[0m         \u001b[0;32mreturn\u001b[0m \u001b[0mwrapper\u001b[0m\u001b[0;34m\u001b[0m\u001b[0;34m\u001b[0m\u001b[0m\n\u001b[1;32m     82\u001b[0m \u001b[0;34m\u001b[0m\u001b[0m\n",
      "\u001b[0;32m/var/folders/m5/k6j2dsz10sx8wy7k5lth31lh0000gn/T/ipykernel_41765/2330465598.py\u001b[0m in \u001b[0;36mquery_api\u001b[0;34m(query, scrollId)\u001b[0m\n\u001b[1;32m     19\u001b[0m     \u001b[0;31m#print(response.headers)\u001b[0m\u001b[0;34m\u001b[0m\u001b[0;34m\u001b[0m\u001b[0m\n\u001b[1;32m     20\u001b[0m     \u001b[0;32mif\u001b[0m \u001b[0mresponse\u001b[0m\u001b[0;34m.\u001b[0m\u001b[0mstatus_code\u001b[0m \u001b[0;34m!=\u001b[0m \u001b[0;36m200\u001b[0m\u001b[0;34m:\u001b[0m\u001b[0;34m\u001b[0m\u001b[0;34m\u001b[0m\u001b[0m\n\u001b[0;32m---> 21\u001b[0;31m         \u001b[0;32mraise\u001b[0m \u001b[0mException\u001b[0m\u001b[0;34m(\u001b[0m\u001b[0;34mf\"API response: {response.status_code}\"\u001b[0m\u001b[0;34m)\u001b[0m\u001b[0;34m\u001b[0m\u001b[0;34m\u001b[0m\u001b[0m\n\u001b[0m\u001b[1;32m     22\u001b[0m \u001b[0;34m\u001b[0m\u001b[0m\n\u001b[1;32m     23\u001b[0m     \u001b[0mhit\u001b[0m \u001b[0;34m=\u001b[0m \u001b[0mresponse\u001b[0m\u001b[0;34m.\u001b[0m\u001b[0mjson\u001b[0m\u001b[0;34m(\u001b[0m\u001b[0;34m)\u001b[0m\u001b[0;34m\u001b[0m\u001b[0;34m\u001b[0m\u001b[0m\n",
      "\u001b[0;31mException\u001b[0m: API response: 500"
     ]
    }
   ],
   "source": [
    "test = query_api(\"emission+reduction\")"
   ]
  },
  {
   "cell_type": "code",
   "execution_count": 125,
   "id": "4849517a-4a0f-4937-a5d8-cf838ab4fb11",
   "metadata": {},
   "outputs": [],
   "source": [
    "def clean_results(results):\n",
    "\n",
    "    keep_col = [\"id\",\"magId\",\"oaiIds\",\"doi\",\"documentType\",\"title\",\"abstract\",\"publisher\",\"yearPublished\",\"journals\",\"dataProviders\",\"identifiers\",\"authors\"]\n",
    "\n",
    "    df = pd.DataFrame(results[\"results\"]).loc[:,keep_col]\n",
    "    df[\"lcase_ttl\"] = df[\"title\"].str.lower()\n",
    "    df[\"abstract\"] = df[\"abstract\"].str.lower()\n",
    "    df[\"publisher\"] = df[\"publisher\"].str.lower().apply(lambda x: x[1:-1] if x.startswith(\"'\") & x.endswith(\"'\") else x)\n",
    "    df[\"pubyear\"] = df[\"yearPublished\"].fillna(0).astype(int)\n",
    "    \n",
    "    return df\n",
    "\n",
    "df_test = clean_results(test)"
   ]
  },
  {
   "cell_type": "code",
   "execution_count": 126,
   "id": "f8fe2f0d-1e33-48d4-8965-6835a800fc3a",
   "metadata": {},
   "outputs": [],
   "source": [
    "def fix_controls(df):\n",
    "    df[\"lcase_ttl\"] = df[\"title\"].str.lower().astype(str)\n",
    "    df[\"pubyear\"] = df[\"pubyear\"].fillna(0).astype(int)\n",
    "    df[\"doi\"] = df[\"doi\"].astype(str)\n",
    "    \n",
    "    df = df.drop_duplicates().reset_index(drop=True)\n",
    "    \n",
    "    return df, df[df[\"query_appears_in_title\"]]\n",
    "\n",
    "df_ctrl1 = pd.read_csv(\"../engineEval/wos_dataset/wos_emission_query.csv\")\n",
    "df_ctrl2 = pd.read_csv(\"../engineEval/wos_dataset/wos_ccs_query.csv\")\n",
    "    \n",
    "df_ctrl1, df_ctrl1_ttl = fix_controls(df_ctrl1)\n",
    "df_ctrl2, df_ctrl2_ttl = fix_controls(df_ctrl2)"
   ]
  },
  {
   "cell_type": "code",
   "execution_count": 127,
   "id": "4cbb1442-a009-4acd-94e8-94554887781f",
   "metadata": {},
   "outputs": [
    {
     "data": {
      "text/html": [
       "<div>\n",
       "<style scoped>\n",
       "    .dataframe tbody tr th:only-of-type {\n",
       "        vertical-align: middle;\n",
       "    }\n",
       "\n",
       "    .dataframe tbody tr th {\n",
       "        vertical-align: top;\n",
       "    }\n",
       "\n",
       "    .dataframe thead th {\n",
       "        text-align: right;\n",
       "    }\n",
       "</style>\n",
       "<table border=\"1\" class=\"dataframe\">\n",
       "  <thead>\n",
       "    <tr style=\"text-align: right;\">\n",
       "      <th></th>\n",
       "      <th>count</th>\n",
       "    </tr>\n",
       "    <tr>\n",
       "      <th>publisher</th>\n",
       "      <th></th>\n",
       "    </tr>\n",
       "  </thead>\n",
       "  <tbody>\n",
       "    <tr>\n",
       "      <th></th>\n",
       "      <td>137</td>\n",
       "    </tr>\n",
       "    <tr>\n",
       "      <th>edp sciences</th>\n",
       "      <td>51</td>\n",
       "    </tr>\n",
       "    <tr>\n",
       "      <th>oxford university press (oup)</th>\n",
       "      <td>51</td>\n",
       "    </tr>\n",
       "    <tr>\n",
       "      <th>iop publishing</th>\n",
       "      <td>36</td>\n",
       "    </tr>\n",
       "    <tr>\n",
       "      <th>elsevier bv</th>\n",
       "      <td>24</td>\n",
       "    </tr>\n",
       "    <tr>\n",
       "      <th>american astronomical society</th>\n",
       "      <td>21</td>\n",
       "    </tr>\n",
       "    <tr>\n",
       "      <th>wiley</th>\n",
       "      <td>19</td>\n",
       "    </tr>\n",
       "    <tr>\n",
       "      <th>springer science and business media llc</th>\n",
       "      <td>14</td>\n",
       "    </tr>\n",
       "    <tr>\n",
       "      <th>aip publishing</th>\n",
       "      <td>11</td>\n",
       "    </tr>\n",
       "    <tr>\n",
       "      <th>aquatic mammals journal</th>\n",
       "      <td>10</td>\n",
       "    </tr>\n",
       "    <tr>\n",
       "      <th>american physical society (aps)</th>\n",
       "      <td>9</td>\n",
       "    </tr>\n",
       "    <tr>\n",
       "      <th>duke university school of law</th>\n",
       "      <td>8</td>\n",
       "    </tr>\n",
       "    <tr>\n",
       "      <th>university of chicago press</th>\n",
       "      <td>8</td>\n",
       "    </tr>\n",
       "    <tr>\n",
       "      <th>elsevier</th>\n",
       "      <td>8</td>\n",
       "    </tr>\n",
       "    <tr>\n",
       "      <th>published by elsevier ltd.</th>\n",
       "      <td>7</td>\n",
       "    </tr>\n",
       "    <tr>\n",
       "      <th>cambridge university press (cup)</th>\n",
       "      <td>6</td>\n",
       "    </tr>\n",
       "    <tr>\n",
       "      <th>the authors. published by elsevier ltd.</th>\n",
       "      <td>6</td>\n",
       "    </tr>\n",
       "    <tr>\n",
       "      <th>royal society of chemistry (rsc)</th>\n",
       "      <td>6</td>\n",
       "    </tr>\n",
       "    <tr>\n",
       "      <th>published by elsevier b.v.</th>\n",
       "      <td>5</td>\n",
       "    </tr>\n",
       "    <tr>\n",
       "      <th>copernicus gmbh</th>\n",
       "      <td>4</td>\n",
       "    </tr>\n",
       "  </tbody>\n",
       "</table>\n",
       "</div>"
      ],
      "text/plain": [
       "                                         count\n",
       "publisher                                     \n",
       "                                           137\n",
       "edp sciences                                51\n",
       "oxford university press (oup)               51\n",
       "iop publishing                              36\n",
       "elsevier bv                                 24\n",
       "american astronomical society               21\n",
       "wiley                                       19\n",
       "springer science and business media llc     14\n",
       "aip publishing                              11\n",
       "aquatic mammals journal                     10\n",
       "american physical society (aps)              9\n",
       "duke university school of law                8\n",
       "university of chicago press                  8\n",
       "elsevier                                     8\n",
       "published by elsevier ltd.                   7\n",
       "cambridge university press (cup)             6\n",
       "the authors. published by elsevier ltd.      6\n",
       "royal society of chemistry (rsc)             6\n",
       "published by elsevier b.v.                   5\n",
       "copernicus gmbh                              4"
      ]
     },
     "execution_count": 127,
     "metadata": {},
     "output_type": "execute_result"
    }
   ],
   "source": [
    "pd.DataFrame(df_test.groupby(\"publisher\").size(), columns=[\"count\"]).sort_values(by=[\"count\"], ascending=False).head(20)\n"
   ]
  },
  {
   "cell_type": "code",
   "execution_count": 128,
   "id": "88b3c283-ae7e-4fde-aa26-5f0c7b09dc27",
   "metadata": {},
   "outputs": [
    {
     "data": {
      "text/plain": [
       "documentType  doi  \n",
       "              False      1\n",
       "              True       2\n",
       "research      False     28\n",
       "              True     106\n",
       "dtype: int64"
      ]
     },
     "execution_count": 128,
     "metadata": {},
     "output_type": "execute_result"
    }
   ],
   "source": [
    "df_test.loc[df_test[\"publisher\"] == \"\"].groupby([\"documentType\",~df_test[\"doi\"].isnull()]).size()"
   ]
  },
  {
   "cell_type": "code",
   "execution_count": 129,
   "id": "a5849f93-11a7-45dc-8634-fecbaeb66d66",
   "metadata": {},
   "outputs": [
    {
     "data": {
      "text/plain": [
       "id                 int64\n",
       "magId             object\n",
       "oaiIds            object\n",
       "doi               object\n",
       "documentType      object\n",
       "title             object\n",
       "abstract          object\n",
       "publisher         object\n",
       "yearPublished    float64\n",
       "journals          object\n",
       "dataProviders     object\n",
       "identifiers       object\n",
       "authors           object\n",
       "lcase_ttl         object\n",
       "pubyear            int64\n",
       "dtype: object"
      ]
     },
     "execution_count": 129,
     "metadata": {},
     "output_type": "execute_result"
    }
   ],
   "source": [
    "df_test.dtypes"
   ]
  },
  {
   "cell_type": "code",
   "execution_count": 135,
   "id": "99817558-d5ca-4c94-a195-f22bc06b103c",
   "metadata": {},
   "outputs": [
    {
     "name": "stdout",
     "output_type": "stream",
     "text": [
      "[{'wos_input': 3615, 'api_input': 550, 'intersection_doi': 3, 'intersection_title': 0, 'intersection_doi_and_title': 3}]\n",
      "[{'wos_input': 48, 'api_input': 1, 'intersection_doi': 0, 'intersection_title': 0, 'intersection_doi_and_title': 0, 'year': 1995}, {'wos_input': 939, 'api_input': 52, 'intersection_doi': 3, 'intersection_title': 0, 'intersection_doi_and_title': 3, 'year': 2015}, {'wos_input': 2271, 'api_input': 0, 'intersection_doi': 0, 'intersection_title': 0, 'intersection_doi_and_title': 0, 'year': 2021}, {'wos_input': 217, 'api_input': 0, 'intersection_doi': 0, 'intersection_title': 0, 'intersection_doi_and_title': 0, 'year': 2022}]\n"
     ]
    }
   ],
   "source": [
    "def overlap_eval(df1,df2):\n",
    "    df_t = pd.merge(df1,df2, on=[\"lcase_ttl\",\"lcase_ttl\"])\n",
    "    df_d = pd.merge(df1,df2, on=[\"doi\",\"doi\"])\n",
    "    df_td = pd.concat([df_t,df_d])\n",
    "\n",
    "    df_td = df_td.loc[:,[\"doi\",\"pubyear_x\",\"lcase_ttl\"]]\\\n",
    "                .drop_duplicates().reset_index(drop=True)\n",
    "    \n",
    "    results = {\"wos_input\" : len(df1.index),\n",
    "               \"api_input\" : len(df2.index),\n",
    "               \"intersection_doi\" : len(df_d.index),\n",
    "               \"intersection_title\" : len(df_t.index),\n",
    "               \"intersection_doi_and_title\" : len(df_td.index),\n",
    "               #\"query_criteria\" : df_td[\"q_params\"][0],\n",
    "               #\"query_source\" : df_td[\"data_source\"][0]\n",
    "              }\n",
    "    \n",
    "    return results\n",
    "\n",
    "toplineResults = []\n",
    "toplineResults.append(overlap_eval(df_ctrl1,df_test))\n",
    "#toplineResults.append(overlap_eval(df_ctrl2,df_q2))\n",
    "\n",
    "yearlyResults = []\n",
    "for i in [1995,2015,2021,2022]:\n",
    "    \n",
    "    year = overlap_eval(df_ctrl1.loc[df_ctrl1[\"pubyear\"] == i],df_test.loc[df_test[\"pubyear\"] == i])\n",
    "    year.update({\"year\":i})\n",
    "    yearlyResults.append(year)\n",
    "\n",
    "print(toplineResults)\n",
    "print(yearlyResults)"
   ]
  },
  {
   "cell_type": "code",
   "execution_count": null,
   "id": "47516cde-2fd1-4dbd-bb99-4a41e0a5f1be",
   "metadata": {},
   "outputs": [],
   "source": []
  }
 ],
 "metadata": {
  "kernelspec": {
   "display_name": "Python 3 (ipykernel)",
   "language": "python",
   "name": "python3"
  },
  "language_info": {
   "codemirror_mode": {
    "name": "ipython",
    "version": 3
   },
   "file_extension": ".py",
   "mimetype": "text/x-python",
   "name": "python",
   "nbconvert_exporter": "python",
   "pygments_lexer": "ipython3",
   "version": "3.9.10"
  }
 },
 "nbformat": 4,
 "nbformat_minor": 5
}
