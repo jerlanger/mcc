{
 "cells": [
  {
   "cell_type": "code",
   "execution_count": 1,
   "id": "eefc61ce-8bcf-400a-ba26-5f02bb2bf102",
   "metadata": {},
   "outputs": [],
   "source": [
    "import requests\n",
    "import pandas as pd\n",
    "import numpy as np\n",
    "from ratelimit import limits, RateLimitException, sleep_and_retry\n",
    "from backoff import on_exception, expo"
   ]
  },
  {
   "cell_type": "code",
   "execution_count": 6,
   "id": "bdfad5a3-ce43-4ea8-b745-d34ccc648270",
   "metadata": {},
   "outputs": [],
   "source": [
    "# CORE API 3.0.0 BETA #\n",
    "\n",
    "apikey = \"ouRpyQ48PL2n0rxTd6SKG3OMWcqCBiJs\"\n",
    "\n",
    "#@on_exception(expo, RateLimitException, max_tries=5)\n",
    "@sleep_and_retry\n",
    "@limits(calls=5, period=61)\n",
    "def query_api(query, scrollId=None):\n",
    "    \n",
    "    headers={\"Authorization\":\"Bearer \"+apikey}\n",
    "    search_url = \"https://api.core.ac.uk/v3/search/works\"\n",
    "    \n",
    "    if not scrollId:\n",
    "        response = requests.get(f\"{search_url}?q={query}&limit=550&scroll=true\",headers=headers)\n",
    "    else:\n",
    "        response = requests.get(f\"{search_url}?q={query}&limit=550&scrollId={scrollId}\",headers=headers)        \n",
    "    \n",
    "    print(response.status_code)\n",
    "    print(response.headers)\n",
    "    if response.status_code != 200:\n",
    "        raise Exception(f\"API response: {response.status_code}\")\n",
    "        \n",
    "    hit = response.json()\n",
    "    \n",
    "    for element in hit[\"results\"]: \n",
    "        if \"fullText\" in element:\n",
    "            del element[\"fullText\"]\n",
    "\n",
    "    return hit\n",
    "\n",
    "def iter_query(query):\n",
    "    allResults = []\n",
    "    scrollId = None\n",
    "    \n",
    "    result = query_api(query)\n",
    "    \n",
    "    allResults.append(result[\"results\"])\n",
    "    scrollId = result[\"scrollId\"]\n",
    "    while scrollId is not None:\n",
    "        result = query_api(query, scrollId=scrollId)\n",
    "        scrollId = result[\"scrollId\"]\n",
    "        allResults.append(result[\"results\"])\n",
    "    \n",
    "    return allResults"
   ]
  },
  {
   "cell_type": "code",
   "execution_count": 7,
   "id": "d26c201c-2703-47ac-8397-cb9b86da646c",
   "metadata": {},
   "outputs": [
    {
     "name": "stdout",
     "output_type": "stream",
     "text": [
      "500\n",
      "{'Date': 'Wed, 27 Apr 2022 09:22:27 GMT', 'Content-Type': 'application/json', 'Transfer-Encoding': 'chunked', 'Connection': 'keep-alive', 'Set-Cookie': 'AWSALBTG=9QiU9ws5LMGaTyhtNm1frR3DJviHvOmJllniX9oxswhLu3sBPvdb4TCyNGWi5OQEXxv5q7i0vfMFEtuo7AO7J1GW0AJ8cvqLPR162L4Qk3ynt2Nd9TYe23k+hM3cVHTLrrU8dzYRHBdLupUtIbc5T8gDjkK32jDakUFIET0uAhnKZ07LnwE=; Expires=Wed, 04 May 2022 09:22:22 GMT; Path=/, AWSALBTGCORS=9QiU9ws5LMGaTyhtNm1frR3DJviHvOmJllniX9oxswhLu3sBPvdb4TCyNGWi5OQEXxv5q7i0vfMFEtuo7AO7J1GW0AJ8cvqLPR162L4Qk3ynt2Nd9TYe23k+hM3cVHTLrrU8dzYRHBdLupUtIbc5T8gDjkK32jDakUFIET0uAhnKZ07LnwE=; Expires=Wed, 04 May 2022 09:22:22 GMT; Path=/; SameSite=None; Secure, AWSALB=gtyWGfr6ygvHb74rXRDCTNTmX9b5mhMV3ZScTwJaLXAfaKcTZekVdtH5//zaHsO6DBMCxreXG2ycVmlEc9GDPZWLCplQNJUh2g+yKGdylImLaoORqS0+slWVnXlD; Expires=Wed, 04 May 2022 09:22:22 GMT; Path=/, AWSALBCORS=gtyWGfr6ygvHb74rXRDCTNTmX9b5mhMV3ZScTwJaLXAfaKcTZekVdtH5//zaHsO6DBMCxreXG2ycVmlEc9GDPZWLCplQNJUh2g+yKGdylImLaoORqS0+slWVnXlD; Expires=Wed, 04 May 2022 09:22:22 GMT; Path=/; SameSite=None; Secure', 'Server': 'Apache', 'Cache-Control': 'no-cache, private', 'X-RateLimit-Remaining': '4', 'X-RateLimit-Retry-After': '2022-04-27T09:22:27+0000', 'X-RateLimit-Limit': '10', 'Strict-Transport-Security': 'max-age=15560640; includeSubDomains; preload', 'X-Frame-Options': 'SAMEORIGIN', 'Vary': 'User-Agent,Referer,Authorization', 'X-Clacks-Overhead': 'GNU Terry Pratchett, GNU Ashley Sanders'}\n"
     ]
    },
    {
     "ename": "Exception",
     "evalue": "API response: 500",
     "output_type": "error",
     "traceback": [
      "\u001b[0;31m---------------------------------------------------------------------------\u001b[0m",
      "\u001b[0;31mException\u001b[0m                                 Traceback (most recent call last)",
      "Input \u001b[0;32mIn [7]\u001b[0m, in \u001b[0;36m<cell line: 1>\u001b[0;34m()\u001b[0m\n\u001b[0;32m----> 1\u001b[0m test \u001b[38;5;241m=\u001b[39m \u001b[43miter_query\u001b[49m\u001b[43m(\u001b[49m\u001b[38;5;124;43m\"\u001b[39;49m\u001b[38;5;124;43memission+reduction\u001b[39;49m\u001b[38;5;124;43m\"\u001b[39;49m\u001b[43m)\u001b[49m\n",
      "Input \u001b[0;32mIn [6]\u001b[0m, in \u001b[0;36miter_query\u001b[0;34m(query)\u001b[0m\n\u001b[1;32m     32\u001b[0m allResults \u001b[38;5;241m=\u001b[39m []\n\u001b[1;32m     33\u001b[0m scrollId \u001b[38;5;241m=\u001b[39m \u001b[38;5;28;01mNone\u001b[39;00m\n\u001b[0;32m---> 35\u001b[0m result \u001b[38;5;241m=\u001b[39m \u001b[43mquery_api\u001b[49m\u001b[43m(\u001b[49m\u001b[43mquery\u001b[49m\u001b[43m)\u001b[49m\n\u001b[1;32m     37\u001b[0m allResults\u001b[38;5;241m.\u001b[39mappend(result[\u001b[38;5;124m\"\u001b[39m\u001b[38;5;124mresults\u001b[39m\u001b[38;5;124m\"\u001b[39m])\n\u001b[1;32m     38\u001b[0m scrollId \u001b[38;5;241m=\u001b[39m result[\u001b[38;5;124m\"\u001b[39m\u001b[38;5;124mscrollId\u001b[39m\u001b[38;5;124m\"\u001b[39m]\n",
      "File \u001b[0;32m~/jupyter/jupyterenv/lib/python3.8/site-packages/ratelimit/decorators.py:113\u001b[0m, in \u001b[0;36msleep_and_retry.<locals>.wrapper\u001b[0;34m(*args, **kargs)\u001b[0m\n\u001b[1;32m    111\u001b[0m \u001b[38;5;28;01mwhile\u001b[39;00m \u001b[38;5;28;01mTrue\u001b[39;00m:\n\u001b[1;32m    112\u001b[0m     \u001b[38;5;28;01mtry\u001b[39;00m:\n\u001b[0;32m--> 113\u001b[0m         \u001b[38;5;28;01mreturn\u001b[39;00m \u001b[43mfunc\u001b[49m\u001b[43m(\u001b[49m\u001b[38;5;241;43m*\u001b[39;49m\u001b[43margs\u001b[49m\u001b[43m,\u001b[49m\u001b[43m \u001b[49m\u001b[38;5;241;43m*\u001b[39;49m\u001b[38;5;241;43m*\u001b[39;49m\u001b[43mkargs\u001b[49m\u001b[43m)\u001b[49m\n\u001b[1;32m    114\u001b[0m     \u001b[38;5;28;01mexcept\u001b[39;00m RateLimitException \u001b[38;5;28;01mas\u001b[39;00m exception:\n\u001b[1;32m    115\u001b[0m         time\u001b[38;5;241m.\u001b[39msleep(exception\u001b[38;5;241m.\u001b[39mperiod_remaining)\n",
      "File \u001b[0;32m~/jupyter/jupyterenv/lib/python3.8/site-packages/ratelimit/decorators.py:80\u001b[0m, in \u001b[0;36mRateLimitDecorator.__call__.<locals>.wrapper\u001b[0;34m(*args, **kargs)\u001b[0m\n\u001b[1;32m     77\u001b[0m             \u001b[38;5;28;01mraise\u001b[39;00m RateLimitException(\u001b[38;5;124m'\u001b[39m\u001b[38;5;124mtoo many calls\u001b[39m\u001b[38;5;124m'\u001b[39m, period_remaining)\n\u001b[1;32m     78\u001b[0m         \u001b[38;5;28;01mreturn\u001b[39;00m\n\u001b[0;32m---> 80\u001b[0m \u001b[38;5;28;01mreturn\u001b[39;00m \u001b[43mfunc\u001b[49m\u001b[43m(\u001b[49m\u001b[38;5;241;43m*\u001b[39;49m\u001b[43margs\u001b[49m\u001b[43m,\u001b[49m\u001b[43m \u001b[49m\u001b[38;5;241;43m*\u001b[39;49m\u001b[38;5;241;43m*\u001b[39;49m\u001b[43mkargs\u001b[49m\u001b[43m)\u001b[49m\n",
      "Input \u001b[0;32mIn [6]\u001b[0m, in \u001b[0;36mquery_api\u001b[0;34m(query, scrollId)\u001b[0m\n\u001b[1;32m     19\u001b[0m \u001b[38;5;28mprint\u001b[39m(response\u001b[38;5;241m.\u001b[39mheaders)\n\u001b[1;32m     20\u001b[0m \u001b[38;5;28;01mif\u001b[39;00m response\u001b[38;5;241m.\u001b[39mstatus_code \u001b[38;5;241m!=\u001b[39m \u001b[38;5;241m200\u001b[39m:\n\u001b[0;32m---> 21\u001b[0m     \u001b[38;5;28;01mraise\u001b[39;00m \u001b[38;5;167;01mException\u001b[39;00m(\u001b[38;5;124mf\u001b[39m\u001b[38;5;124m\"\u001b[39m\u001b[38;5;124mAPI response: \u001b[39m\u001b[38;5;132;01m{\u001b[39;00mresponse\u001b[38;5;241m.\u001b[39mstatus_code\u001b[38;5;132;01m}\u001b[39;00m\u001b[38;5;124m\"\u001b[39m)\n\u001b[1;32m     23\u001b[0m hit \u001b[38;5;241m=\u001b[39m response\u001b[38;5;241m.\u001b[39mjson()\n\u001b[1;32m     25\u001b[0m \u001b[38;5;28;01mfor\u001b[39;00m element \u001b[38;5;129;01min\u001b[39;00m hit[\u001b[38;5;124m\"\u001b[39m\u001b[38;5;124mresults\u001b[39m\u001b[38;5;124m\"\u001b[39m]: \n",
      "\u001b[0;31mException\u001b[0m: API response: 500"
     ]
    }
   ],
   "source": [
    "test = iter_query(\"emission+reduction\")"
   ]
  },
  {
   "cell_type": "code",
   "execution_count": 125,
   "id": "4849517a-4a0f-4937-a5d8-cf838ab4fb11",
   "metadata": {},
   "outputs": [],
   "source": [
    "def clean_results(results):\n",
    "\n",
    "    keep_col = [\"id\",\"magId\",\"oaiIds\",\"doi\",\"documentType\",\"title\",\"abstract\",\"publisher\",\"yearPublished\",\"journals\",\"dataProviders\",\"identifiers\",\"authors\"]\n",
    "\n",
    "    df = pd.DataFrame(results[\"results\"]).loc[:,keep_col]\n",
    "    df[\"lcase_ttl\"] = df[\"title\"].str.lower()\n",
    "    df[\"abstract\"] = df[\"abstract\"].str.lower()\n",
    "    df[\"publisher\"] = df[\"publisher\"].str.lower().apply(lambda x: x[1:-1] if x.startswith(\"'\") & x.endswith(\"'\") else x)\n",
    "    df[\"pubyear\"] = df[\"yearPublished\"].fillna(0).astype(int)\n",
    "    \n",
    "    return df\n",
    "\n",
    "df_test = clean_results(test)"
   ]
  },
  {
   "cell_type": "code",
   "execution_count": 126,
   "id": "f8fe2f0d-1e33-48d4-8965-6835a800fc3a",
   "metadata": {},
   "outputs": [],
   "source": [
    "def fix_controls(df):\n",
    "    df[\"lcase_ttl\"] = df[\"title\"].str.lower().astype(str)\n",
    "    df[\"pubyear\"] = df[\"pubyear\"].fillna(0).astype(int)\n",
    "    df[\"doi\"] = df[\"doi\"].astype(str)\n",
    "    \n",
    "    df = df.drop_duplicates().reset_index(drop=True)\n",
    "    \n",
    "    return df, df[df[\"query_appears_in_title\"]]\n",
    "\n",
    "df_ctrl1 = pd.read_csv(\"../engineEval/wos_dataset/wos_emission_query.csv\")\n",
    "df_ctrl2 = pd.read_csv(\"../engineEval/wos_dataset/wos_ccs_query.csv\")\n",
    "    \n",
    "df_ctrl1, df_ctrl1_ttl = fix_controls(df_ctrl1)\n",
    "df_ctrl2, df_ctrl2_ttl = fix_controls(df_ctrl2)"
   ]
  },
  {
   "cell_type": "code",
   "execution_count": 127,
   "id": "4cbb1442-a009-4acd-94e8-94554887781f",
   "metadata": {},
   "outputs": [
    {
     "data": {
      "text/html": [
       "<div>\n",
       "<style scoped>\n",
       "    .dataframe tbody tr th:only-of-type {\n",
       "        vertical-align: middle;\n",
       "    }\n",
       "\n",
       "    .dataframe tbody tr th {\n",
       "        vertical-align: top;\n",
       "    }\n",
       "\n",
       "    .dataframe thead th {\n",
       "        text-align: right;\n",
       "    }\n",
       "</style>\n",
       "<table border=\"1\" class=\"dataframe\">\n",
       "  <thead>\n",
       "    <tr style=\"text-align: right;\">\n",
       "      <th></th>\n",
       "      <th>count</th>\n",
       "    </tr>\n",
       "    <tr>\n",
       "      <th>publisher</th>\n",
       "      <th></th>\n",
       "    </tr>\n",
       "  </thead>\n",
       "  <tbody>\n",
       "    <tr>\n",
       "      <th></th>\n",
       "      <td>137</td>\n",
       "    </tr>\n",
       "    <tr>\n",
       "      <th>edp sciences</th>\n",
       "      <td>51</td>\n",
       "    </tr>\n",
       "    <tr>\n",
       "      <th>oxford university press (oup)</th>\n",
       "      <td>51</td>\n",
       "    </tr>\n",
       "    <tr>\n",
       "      <th>iop publishing</th>\n",
       "      <td>36</td>\n",
       "    </tr>\n",
       "    <tr>\n",
       "      <th>elsevier bv</th>\n",
       "      <td>24</td>\n",
       "    </tr>\n",
       "    <tr>\n",
       "      <th>american astronomical society</th>\n",
       "      <td>21</td>\n",
       "    </tr>\n",
       "    <tr>\n",
       "      <th>wiley</th>\n",
       "      <td>19</td>\n",
       "    </tr>\n",
       "    <tr>\n",
       "      <th>springer science and business media llc</th>\n",
       "      <td>14</td>\n",
       "    </tr>\n",
       "    <tr>\n",
       "      <th>aip publishing</th>\n",
       "      <td>11</td>\n",
       "    </tr>\n",
       "    <tr>\n",
       "      <th>aquatic mammals journal</th>\n",
       "      <td>10</td>\n",
       "    </tr>\n",
       "    <tr>\n",
       "      <th>american physical society (aps)</th>\n",
       "      <td>9</td>\n",
       "    </tr>\n",
       "    <tr>\n",
       "      <th>duke university school of law</th>\n",
       "      <td>8</td>\n",
       "    </tr>\n",
       "    <tr>\n",
       "      <th>university of chicago press</th>\n",
       "      <td>8</td>\n",
       "    </tr>\n",
       "    <tr>\n",
       "      <th>elsevier</th>\n",
       "      <td>8</td>\n",
       "    </tr>\n",
       "    <tr>\n",
       "      <th>published by elsevier ltd.</th>\n",
       "      <td>7</td>\n",
       "    </tr>\n",
       "    <tr>\n",
       "      <th>cambridge university press (cup)</th>\n",
       "      <td>6</td>\n",
       "    </tr>\n",
       "    <tr>\n",
       "      <th>the authors. published by elsevier ltd.</th>\n",
       "      <td>6</td>\n",
       "    </tr>\n",
       "    <tr>\n",
       "      <th>royal society of chemistry (rsc)</th>\n",
       "      <td>6</td>\n",
       "    </tr>\n",
       "    <tr>\n",
       "      <th>published by elsevier b.v.</th>\n",
       "      <td>5</td>\n",
       "    </tr>\n",
       "    <tr>\n",
       "      <th>copernicus gmbh</th>\n",
       "      <td>4</td>\n",
       "    </tr>\n",
       "  </tbody>\n",
       "</table>\n",
       "</div>"
      ],
      "text/plain": [
       "                                         count\n",
       "publisher                                     \n",
       "                                           137\n",
       "edp sciences                                51\n",
       "oxford university press (oup)               51\n",
       "iop publishing                              36\n",
       "elsevier bv                                 24\n",
       "american astronomical society               21\n",
       "wiley                                       19\n",
       "springer science and business media llc     14\n",
       "aip publishing                              11\n",
       "aquatic mammals journal                     10\n",
       "american physical society (aps)              9\n",
       "duke university school of law                8\n",
       "university of chicago press                  8\n",
       "elsevier                                     8\n",
       "published by elsevier ltd.                   7\n",
       "cambridge university press (cup)             6\n",
       "the authors. published by elsevier ltd.      6\n",
       "royal society of chemistry (rsc)             6\n",
       "published by elsevier b.v.                   5\n",
       "copernicus gmbh                              4"
      ]
     },
     "execution_count": 127,
     "metadata": {},
     "output_type": "execute_result"
    }
   ],
   "source": [
    "pd.DataFrame(df_test.groupby(\"publisher\").size(), columns=[\"count\"]).sort_values(by=[\"count\"], ascending=False).head(20)\n"
   ]
  },
  {
   "cell_type": "code",
   "execution_count": 128,
   "id": "88b3c283-ae7e-4fde-aa26-5f0c7b09dc27",
   "metadata": {},
   "outputs": [
    {
     "data": {
      "text/plain": [
       "documentType  doi  \n",
       "              False      1\n",
       "              True       2\n",
       "research      False     28\n",
       "              True     106\n",
       "dtype: int64"
      ]
     },
     "execution_count": 128,
     "metadata": {},
     "output_type": "execute_result"
    }
   ],
   "source": [
    "df_test.loc[df_test[\"publisher\"] == \"\"].groupby([\"documentType\",~df_test[\"doi\"].isnull()]).size()"
   ]
  },
  {
   "cell_type": "code",
   "execution_count": 129,
   "id": "a5849f93-11a7-45dc-8634-fecbaeb66d66",
   "metadata": {},
   "outputs": [
    {
     "data": {
      "text/plain": [
       "id                 int64\n",
       "magId             object\n",
       "oaiIds            object\n",
       "doi               object\n",
       "documentType      object\n",
       "title             object\n",
       "abstract          object\n",
       "publisher         object\n",
       "yearPublished    float64\n",
       "journals          object\n",
       "dataProviders     object\n",
       "identifiers       object\n",
       "authors           object\n",
       "lcase_ttl         object\n",
       "pubyear            int64\n",
       "dtype: object"
      ]
     },
     "execution_count": 129,
     "metadata": {},
     "output_type": "execute_result"
    }
   ],
   "source": [
    "df_test.dtypes"
   ]
  },
  {
   "cell_type": "code",
   "execution_count": 135,
   "id": "99817558-d5ca-4c94-a195-f22bc06b103c",
   "metadata": {},
   "outputs": [
    {
     "name": "stdout",
     "output_type": "stream",
     "text": [
      "[{'wos_input': 3615, 'api_input': 550, 'intersection_doi': 3, 'intersection_title': 0, 'intersection_doi_and_title': 3}]\n",
      "[{'wos_input': 48, 'api_input': 1, 'intersection_doi': 0, 'intersection_title': 0, 'intersection_doi_and_title': 0, 'year': 1995}, {'wos_input': 939, 'api_input': 52, 'intersection_doi': 3, 'intersection_title': 0, 'intersection_doi_and_title': 3, 'year': 2015}, {'wos_input': 2271, 'api_input': 0, 'intersection_doi': 0, 'intersection_title': 0, 'intersection_doi_and_title': 0, 'year': 2021}, {'wos_input': 217, 'api_input': 0, 'intersection_doi': 0, 'intersection_title': 0, 'intersection_doi_and_title': 0, 'year': 2022}]\n"
     ]
    }
   ],
   "source": [
    "def overlap_eval(df1,df2):\n",
    "    df_t = pd.merge(df1,df2, on=[\"lcase_ttl\",\"lcase_ttl\"])\n",
    "    df_d = pd.merge(df1,df2, on=[\"doi\",\"doi\"])\n",
    "    df_td = pd.concat([df_t,df_d])\n",
    "\n",
    "    df_td = df_td.loc[:,[\"doi\",\"pubyear_x\",\"lcase_ttl\"]]\\\n",
    "                .drop_duplicates().reset_index(drop=True)\n",
    "    \n",
    "    results = {\"wos_input\" : len(df1.index),\n",
    "               \"api_input\" : len(df2.index),\n",
    "               \"intersection_doi\" : len(df_d.index),\n",
    "               \"intersection_title\" : len(df_t.index),\n",
    "               \"intersection_doi_and_title\" : len(df_td.index),\n",
    "               #\"query_criteria\" : df_td[\"q_params\"][0],\n",
    "               #\"query_source\" : df_td[\"data_source\"][0]\n",
    "              }\n",
    "    \n",
    "    return results\n",
    "\n",
    "toplineResults = []\n",
    "toplineResults.append(overlap_eval(df_ctrl1,df_test))\n",
    "#toplineResults.append(overlap_eval(df_ctrl2,df_q2))\n",
    "\n",
    "yearlyResults = []\n",
    "for i in [1995,2015,2021,2022]:\n",
    "    \n",
    "    year = overlap_eval(df_ctrl1.loc[df_ctrl1[\"pubyear\"] == i],df_test.loc[df_test[\"pubyear\"] == i])\n",
    "    year.update({\"year\":i})\n",
    "    yearlyResults.append(year)\n",
    "\n",
    "print(toplineResults)\n",
    "print(yearlyResults)"
   ]
  },
  {
   "cell_type": "code",
   "execution_count": null,
   "id": "47516cde-2fd1-4dbd-bb99-4a41e0a5f1be",
   "metadata": {},
   "outputs": [],
   "source": []
  }
 ],
 "metadata": {
  "kernelspec": {
   "display_name": "Python 3 (ipykernel)",
   "language": "python",
   "name": "python3"
  },
  "language_info": {
   "codemirror_mode": {
    "name": "ipython",
    "version": 3
   },
   "file_extension": ".py",
   "mimetype": "text/x-python",
   "name": "python",
   "nbconvert_exporter": "python",
   "pygments_lexer": "ipython3",
   "version": "3.8.10"
  }
 },
 "nbformat": 4,
 "nbformat_minor": 5
}
