{
 "cells": [
  {
   "cell_type": "code",
   "execution_count": 90,
   "id": "51a37d0b-e6ec-4590-94d3-6f6e899fb9f9",
   "metadata": {},
   "outputs": [],
   "source": [
    "import requests\n",
    "import pandas as pd\n",
    "import numpy as np\n",
    "from ratelimit import limits, RateLimitException, sleep_and_retry\n",
    "from backoff import on_exception, expo"
   ]
  },
  {
   "cell_type": "code",
   "execution_count": 91,
   "id": "9155388d-fc97-4950-992f-0e124ccbf36c",
   "metadata": {},
   "outputs": [],
   "source": [
    "def searchOA(q):\n",
    "    \n",
    "    base = \"https://api.openalex.org/\"\n",
    "    obj = \"works\"\n",
    "    perpage = \"per-page=200\"\n",
    "    cursor = \"cursor=*\"\n",
    "    mailto = \"mailto=erlanger@mcc-berlin.net\"\n",
    "    \n",
    "    response = requests.get(f\"{base}{obj}?{q}&{perpage}&{cursor}&{mailto}\").json()\n",
    "\n",
    "    df_oa = pd.DataFrame(response[\"results\"])\n",
    "    #df_meta = pd.DataFrame(response[\"meta\"], index=[0])\n",
    "\n",
    "    pag = response[\"meta\"][\"next_cursor\"]\n",
    "    while pag is not None:\n",
    "        response = requests.get(f\"{base}{obj}?{q}&{perpage}&cursor={pag}&{mailto}\").json()\n",
    "        pag = response[\"meta\"][\"next_cursor\"]\n",
    "        df_oa = pd.concat([df_oa,pd.DataFrame(response[\"results\"])], ignore_index=True)\n",
    "        \n",
    "    df_oa[\"doi\"] = df_oa[\"ids\"].astype('str').str.extract(r\"'doi': \\'https:\\/\\/doi.org\\/([^\\']+)'\")\n",
    "    df_oa[\"mag\"] = df_oa[\"ids\"].astype('str').str.extract(r\"'mag': \\'(\\d+)'\")\n",
    "    df_oa[\"lcase_ttl\"] = df_oa[\"title\"].str.lower()\n",
    "    df_oa[\"data_source\"] = \"openAlex\"\n",
    "    df_oa[\"q_params\"] = q\n",
    "    \n",
    "    print(f\"Query Submitted: {q}\")\n",
    "    print(f\"OpenAlex Response Size: {len(df_oa.index)} Rows\")\n",
    "    \n",
    "    return df_oa"
   ]
  },
  {
   "cell_type": "code",
   "execution_count": 92,
   "id": "8870f6d1-053a-45f0-8235-101e0685c4f4",
   "metadata": {},
   "outputs": [
    {
     "name": "stdout",
     "output_type": "stream",
     "text": [
      "Query Submitted: search=\"emission reduction\"\n",
      "OpenAlex Response Size: 8065 Rows\n",
      "Query Submitted: search=\"capture and storage\"\n",
      "OpenAlex Response Size: 2841 Rows\n"
     ]
    }
   ],
   "source": [
    "# Run Eval Queries #\n",
    "\n",
    "q1 = \"search=\\\"emission reduction\\\"\"\n",
    "q2 = \"search=\\\"capture and storage\\\"\"\n",
    "\n",
    "df_q1 = searchOA(q1)\n",
    "\n",
    "#12.04.2022: The API has a lot of difficulty with handling complex queries. Basic logic is OR only\n",
    "#You can stack with filters but filters only on title for now, not possible to do abstracts, best course of aciton is through snapshot\n",
    "#and client-side filtering with e.g. regex\n",
    "\n",
    "df_q2 = searchOA(q2)"
   ]
  },
  {
   "cell_type": "code",
   "execution_count": 147,
   "id": "df4a3776-2bf3-4ccb-9d42-8b548a37294c",
   "metadata": {},
   "outputs": [],
   "source": [
    "# Regex Filtering for Complex Query #\n",
    "\n",
    "# Todo: return to later and fix it so it evaluates all possible columns\n",
    "# mask = df_q2[[\"lcase_ttl\",\"display_name\"]].apply(lambda x: x.str.match(r\"[cC](02|arbon)\") & x.str.match(r\"[uU](tili.ation|sage)\"))\n",
    "\n",
    "df_q2_fltr = df_q2[df_q2[\"lcase_ttl\"].str.match(r\"^(?=.*[cC](02|arbon))(?=.*[uU](tili.ation|sage)).*$\")]"
   ]
  },
  {
   "cell_type": "code",
   "execution_count": 151,
   "id": "0b320dcc-cb8e-4452-8935-6cdc5e6e6030",
   "metadata": {},
   "outputs": [],
   "source": [
    "# Import Control Groups #\n",
    "\n",
    "def fix_controls(df):\n",
    "    df[\"lcase_ttl\"] = df[\"title\"].str.lower().astype(str)\n",
    "    df[\"pubyear\"] = df[\"pubyear\"].fillna(0).astype(int)\n",
    "    df[\"doi\"] = df[\"doi\"].astype(str)\n",
    "    \n",
    "    return df, df[df[\"query_appears_in_title\"]]\n",
    "\n",
    "df_ctrl1 = pd.read_csv(\"../engineEval/wos_dataset/wos_emission_query.csv\")\n",
    "df_ctrl2 = pd.read_csv(\"../engineEval/wos_dataset/wos_ccs_query.csv\")\n",
    "    \n",
    "df_ctrl1, df_ctrl1_fltr = fix_controls(df_eval1)\n",
    "df_ctrl2, df_ctrl2_fltr = fix_controls(df_eval2)"
   ]
  },
  {
   "cell_type": "code",
   "execution_count": 152,
   "id": "c890aec3-d892-44f4-bbb1-cf55b53a7568",
   "metadata": {},
   "outputs": [
    {
     "name": "stdout",
     "output_type": "stream",
     "text": [
      "==== Start ====\n",
      "Matches for search=\"emission reduction\" Title Only\n",
      "WoS: 455\n",
      "OA: 8065\n",
      "Simple doi match: 365 matches\n",
      "==== Finish =====\n",
      "==== Start ====\n",
      "Matches for search=\"capture and storage\" Title Only\n",
      "WoS: 4\n",
      "OA: 26\n",
      "Simple doi match: 3 matches\n",
      "==== Finish =====\n"
     ]
    }
   ],
   "source": [
    "# Titles Only DOI Comparison While I Work on Abstract #\n",
    "\n",
    "def doi_eval(df1,df2):\n",
    "    df_results = pd.merge(df1,df2, on=[\"doi\",\"doi\"])\n",
    "    \n",
    "    print(\"==== Start ====\")\n",
    "    print(f\"Matches for {df_results['q_params'][0]} Title Only\")\n",
    "    print(f\"WoS: {len(df1.index)}\")\n",
    "    print(f\"OA: {len(df2.index)}\")\n",
    "    print(f\"Simple doi match: {len(df_results.index)} matches\")\n",
    "    print(\"==== Finish =====\")\n",
    "\n",
    "doi_eval(df_ctrl1_fltr,df_q1)\n",
    "doi_eval(df_ctrl2_fltr,df_q2_fltr)"
   ]
  },
  {
   "cell_type": "code",
   "execution_count": null,
   "id": "56e84f28-708c-4f93-b6fe-4d1a28d52abf",
   "metadata": {},
   "outputs": [],
   "source": []
  }
 ],
 "metadata": {
  "kernelspec": {
   "display_name": "Python 3 (ipykernel)",
   "language": "python",
   "name": "python3"
  },
  "language_info": {
   "codemirror_mode": {
    "name": "ipython",
    "version": 3
   },
   "file_extension": ".py",
   "mimetype": "text/x-python",
   "name": "python",
   "nbconvert_exporter": "python",
   "pygments_lexer": "ipython3",
   "version": "3.8.10"
  }
 },
 "nbformat": 4,
 "nbformat_minor": 5
}
