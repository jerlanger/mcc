{
 "cells": [
  {
   "cell_type": "code",
   "execution_count": 2,
   "id": "e1c23fe8-4321-4bf3-a90d-a2e0d6be379e",
   "metadata": {},
   "outputs": [],
   "source": [
    "import requests\n",
    "import pandas as pd\n",
    "import numpy as np\n",
    "from ratelimit import limits, RateLimitException, sleep_and_retry\n",
    "from backoff import on_exception, expo"
   ]
  },
  {
   "cell_type": "code",
   "execution_count": 73,
   "id": "f8ddeb99-455b-4b48-aa6c-a0fe6e055b7b",
   "metadata": {},
   "outputs": [],
   "source": [
    "@sleep_and_retry\n",
    "@limits(calls=100, period=300)\n",
    "def query_api(query, scroll=0):\n",
    "    \n",
    "    base = \"https://api.semanticscholar.org/graph/v1\"\n",
    "    obj = \"paper\"\n",
    "    limit = 100\n",
    "    fields = \"abstract,title,year,externalIds\"\n",
    "    \n",
    "    response = requests.get(f\"{base}/{obj}/search?query={query}&limit={limit}&offset={scroll}&fields={fields}\").json()\n",
    "\n",
    "    return response\n",
    "\n",
    "def scroll(query, scroll=0):\n",
    "    \n",
    "    allResults = []\n",
    "    \n",
    "    result = query_api(query, scroll=scroll)\n",
    "    totalResults = result[\"total\"]\n",
    "    allResults.append(result[\"data\"])\n",
    "    \n",
    "    while scroll < totalResults:\n",
    "        print(scroll)\n",
    "        scroll = result[\"next\"]\n",
    "        result = query_api(query, scroll=scroll)\n",
    "        allResults.append(result[\"data\"])\n",
    "        \n",
    "    return allResults\n",
    "\n",
    "#result = scroll(\"%22emission%20reduction%22\")\n",
    "result = query_api(\"emission reduction\")\n",
    "result_ccs = query_api(\"capture and storage\")"
   ]
  },
  {
   "cell_type": "code",
   "execution_count": 78,
   "id": "6fccadbb-c1ff-4651-8466-ddfa61199b3f",
   "metadata": {},
   "outputs": [],
   "source": [
    "df1 = pd.DataFrame(result[\"data\"])\n",
    "df2 = pd.DataFrame(result_ccs[\"data\"])"
   ]
  },
  {
   "cell_type": "code",
   "execution_count": 79,
   "id": "5791d735-a12c-46e0-ae2e-0fd2c28b071b",
   "metadata": {},
   "outputs": [],
   "source": [
    "def clean_results(df):\n",
    "    \n",
    "    # Transform External IDs Array Into Columns\n",
    "    df[\"values\"] = df[\"externalIds\"].apply(lambda x: x.values())\n",
    "    df[\"keys\"] = df[\"externalIds\"].apply(lambda x: x.keys())\n",
    "    df = df.explode(['keys','values'])\n",
    "    df = df.pivot(index=[\"paperId\",\"title\",\"abstract\",\"year\"], columns=\"keys\", values=\"values\").reset_index()#.set_index(\"paperId\")\n",
    "    \n",
    "    # Clean Columns\n",
    "    df[\"title\"] = df[\"title\"].str.lower()\n",
    "    df[\"abstract\"] = df[\"abstract\"].str.lower()\n",
    "    df[\"year\"] = df[\"year\"].fillna(0).astype(int)\n",
    "    \n",
    "    df = df.drop_duplicates()\n",
    "    \n",
    "    return df\n",
    "\n",
    "df1 = clean_results(df1)\n",
    "df2 = clean_results(df2)"
   ]
  },
  {
   "cell_type": "code",
   "execution_count": 101,
   "id": "5acba3a1-9223-44c6-9d23-3e200a301895",
   "metadata": {},
   "outputs": [],
   "source": [
    "# Regex is producing inconsistent results, need to look into\n",
    "\n",
    "df_results = df2.loc[(df[\"abstract\"].fillna(\"\").str.match(r\"^(?=.*[cC](02|arbon))(?=.*[uU](tili.ation|sage)).*$\")),[\"title\",\"abstract\"]]"
   ]
  },
  {
   "cell_type": "code",
   "execution_count": 104,
   "id": "1feb3690-88d0-4f09-9e69-b73334163d2a",
   "metadata": {},
   "outputs": [
    {
     "data": {
      "text/html": [
       "<div>\n",
       "<style scoped>\n",
       "    .dataframe tbody tr th:only-of-type {\n",
       "        vertical-align: middle;\n",
       "    }\n",
       "\n",
       "    .dataframe tbody tr th {\n",
       "        vertical-align: top;\n",
       "    }\n",
       "\n",
       "    .dataframe thead th {\n",
       "        text-align: right;\n",
       "    }\n",
       "</style>\n",
       "<table border=\"1\" class=\"dataframe\">\n",
       "  <thead>\n",
       "    <tr style=\"text-align: right;\">\n",
       "      <th>keys</th>\n",
       "      <th>title</th>\n",
       "      <th>abstract</th>\n",
       "    </tr>\n",
       "  </thead>\n",
       "  <tbody>\n",
       "    <tr>\n",
       "      <th>33</th>\n",
       "      <td>carbon capture and storage: lessons from a sto...</td>\n",
       "      <td>NaN</td>\n",
       "    </tr>\n",
       "    <tr>\n",
       "      <th>96</th>\n",
       "      <td>crafting inorganic materials for use in energy...</td>\n",
       "      <td>harnessing solar energy effectively by the jud...</td>\n",
       "    </tr>\n",
       "  </tbody>\n",
       "</table>\n",
       "</div>"
      ],
      "text/plain": [
       "keys                                              title  \\\n",
       "33    carbon capture and storage: lessons from a sto...   \n",
       "96    crafting inorganic materials for use in energy...   \n",
       "\n",
       "keys                                           abstract  \n",
       "33                                                  NaN  \n",
       "96    harnessing solar energy effectively by the jud...  "
      ]
     },
     "execution_count": 104,
     "metadata": {},
     "output_type": "execute_result"
    }
   ],
   "source": [
    "df_results"
   ]
  },
  {
   "cell_type": "code",
   "execution_count": null,
   "id": "36a93832-8ed7-4b10-b9a4-cb6a4e65fa95",
   "metadata": {},
   "outputs": [],
   "source": []
  }
 ],
 "metadata": {
  "kernelspec": {
   "display_name": "Python 3 (ipykernel)",
   "language": "python",
   "name": "python3"
  },
  "language_info": {
   "codemirror_mode": {
    "name": "ipython",
    "version": 3
   },
   "file_extension": ".py",
   "mimetype": "text/x-python",
   "name": "python",
   "nbconvert_exporter": "python",
   "pygments_lexer": "ipython3",
   "version": "3.8.10"
  }
 },
 "nbformat": 4,
 "nbformat_minor": 5
}
