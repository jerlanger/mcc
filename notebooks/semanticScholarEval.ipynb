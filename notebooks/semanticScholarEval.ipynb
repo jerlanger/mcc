{
 "cells": [
  {
   "cell_type": "code",
   "execution_count": null,
   "id": "e1c23fe8-4321-4bf3-a90d-a2e0d6be379e",
   "metadata": {},
   "outputs": [],
   "source": [
    "import requests\n",
    "import pandas as pd\n",
    "import numpy as np\n",
    "from ratelimit import limits, RateLimitException, sleep_and_retry\n",
    "from backoff import on_exception, expo"
   ]
  },
  {
   "cell_type": "code",
   "execution_count": null,
   "id": "f8ddeb99-455b-4b48-aa6c-a0fe6e055b7b",
   "metadata": {},
   "outputs": [],
   "source": [
    "def query_api(query, scroll=0):\n",
    "    \n",
    "    base = \"https://api.semanticscholar.org/graph/v1\"\n",
    "    obj = \"paper\"\n",
    "    limit = 100\n",
    "    fields = \"abstract,title,year,externalIds\"\n",
    "    \n",
    "    response = requests.get(f\"{base}/{obj}/search?query={query}&limit={limit}&scroll={scroll}&fields={fields}\").json()\n",
    "\n",
    "    return response\n",
    "\n",
    "def scroll(query, scroll=0):\n",
    "    \n",
    "    allResults = []\n",
    "    \n",
    "    result = query_api(query, scroll=scroll)\n",
    "    totalResults = result[\"total\"]\n",
    "    allResults.append(result)\n",
    "    \n",
    "    while scroll <= 200:\n",
    "        scroll = result[\"next\"]\n",
    "        result = query_api(query, scroll=scroll)\n",
    "        allResults.append(result)\n",
    "        \n",
    "    return allResults\n",
    "\n",
    "#result = query_api(\"%22emission%20reduction%22\")\n",
    "\n",
    "result = scroll(\"%22emission%20reduction%22\")\n"
   ]
  },
  {
   "cell_type": "code",
   "execution_count": null,
   "id": "6fccadbb-c1ff-4651-8466-ddfa61199b3f",
   "metadata": {},
   "outputs": [],
   "source": [
    "result[\"next\"]"
   ]
  },
  {
   "cell_type": "code",
   "execution_count": null,
   "id": "671aca5b-c4ad-46e7-b69c-5e24f6f84120",
   "metadata": {},
   "outputs": [],
   "source": []
  }
 ],
 "metadata": {
  "kernelspec": {
   "display_name": "Python 3 (ipykernel)",
   "language": "python",
   "name": "python3"
  },
  "language_info": {
   "codemirror_mode": {
    "name": "ipython",
    "version": 3
   },
   "file_extension": ".py",
   "mimetype": "text/x-python",
   "name": "python",
   "nbconvert_exporter": "python",
   "pygments_lexer": "ipython3",
   "version": "3.9.10"
  }
 },
 "nbformat": 4,
 "nbformat_minor": 5
}
