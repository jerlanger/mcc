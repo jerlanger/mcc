{
 "cells": [
  {
   "cell_type": "code",
   "execution_count": 1,
   "id": "51a37d0b-e6ec-4590-94d3-6f6e899fb9f9",
   "metadata": {},
   "outputs": [],
   "source": [
    "import requests\n",
    "import pandas as pd\n",
    "import numpy as np\n",
    "from ratelimit import limits, RateLimitException, sleep_and_retry\n",
    "from backoff import on_exception, expo"
   ]
  },
  {
   "cell_type": "code",
   "execution_count": 2,
   "id": "9155388d-fc97-4950-992f-0e124ccbf36c",
   "metadata": {},
   "outputs": [],
   "source": [
    "def searchOA(q):\n",
    "    \n",
    "    base = \"https://api.openalex.org/\"\n",
    "    obj = \"works\"\n",
    "    perpage = \"per-page=200\"\n",
    "    cursor = \"cursor=*\"\n",
    "    mailto = \"mailto=erlanger@mcc-berlin.net\"\n",
    "    \n",
    "    response = requests.get(f\"{base}{obj}?{q}&{perpage}&{cursor}&{mailto}\").json()\n",
    "\n",
    "    df_oa = pd.DataFrame(response[\"results\"])\n",
    "    #df_meta = pd.DataFrame(response[\"meta\"], index=[0])\n",
    "\n",
    "    pag = response[\"meta\"][\"next_cursor\"]\n",
    "    while pag is not None:\n",
    "        response = requests.get(f\"{base}{obj}?{q}&{perpage}&cursor={pag}&{mailto}\").json()\n",
    "        pag = response[\"meta\"][\"next_cursor\"]\n",
    "        df_oa = df_oa.append(response[\"results\"])\n",
    "        \n",
    "    df_oa[\"doi\"] = df_oa[\"ids\"].astype('str').str.extract(r\"'doi': \\'([^\\']+)'\")\n",
    "    df_oa[\"mag\"] = df_oa[\"ids\"].astype('str').str.extract(r\"'mag': \\'(\\d+)'\")\n",
    "    df_oa[\"data_source\"] = \"openAlex\"\n",
    "    df_oa[\"q_params\"] = q\n",
    "    \n",
    "    return df_oa"
   ]
  },
  {
   "cell_type": "code",
   "execution_count": 3,
   "id": "8870f6d1-053a-45f0-8235-101e0685c4f4",
   "metadata": {},
   "outputs": [
    {
     "data": {
      "text/plain": [
       "8065"
      ]
     },
     "execution_count": 3,
     "metadata": {},
     "output_type": "execute_result"
    }
   ],
   "source": [
    "q1 = \"search=\\\"emission reduction\\\"\"\n",
    "\n",
    "df_q1 = searchOA(q1)\n",
    "len(df_q1.index)"
   ]
  },
  {
   "cell_type": "code",
   "execution_count": 4,
   "id": "27f8e87f-97f5-4884-9c9b-67ffb88a0270",
   "metadata": {},
   "outputs": [
    {
     "data": {
      "text/plain": [
       "2841"
      ]
     },
     "execution_count": 4,
     "metadata": {},
     "output_type": "execute_result"
    }
   ],
   "source": [
    "# q2 #\"((\\\"Carbon capture and Storage\\\" OR \\\"CO2 capture and storage\\\") AND (\\\"Utili*ation\\\" OR \\\"usage\\\"))\"\n",
    "\n",
    "#12.04.2022: The API has a lot of difficulty with handling complex queries. Basic logic is OR only\n",
    "#You can stack with filters but filters only on title for now, not possible to do abstracts, best course of aciton is through snapshot\n",
    "#and mcc-side filtering with e.g. regex\n",
    "\n",
    "q2 = \"search=\\\"capture and storage\\\"\"\n",
    "\n",
    "df_q2 = searchOA(q2)\n",
    "len(df_q2.index)"
   ]
  },
  {
   "cell_type": "code",
   "execution_count": null,
   "id": "0b320dcc-cb8e-4452-8935-6cdc5e6e6030",
   "metadata": {},
   "outputs": [],
   "source": [
    "df_q2.loc[lambda x: len(x[\"abstract_inverted_index\"]) ]"
   ]
  },
  {
   "cell_type": "code",
   "execution_count": null,
   "id": "b84f2e62-5733-45dd-b314-20129569554e",
   "metadata": {},
   "outputs": [],
   "source": [
    "# CORE API 3.0.0 BETA #\n",
    "\n",
    "apikey = \"api_key\"\n",
    "\n",
    "#@on_exception(expo, RateLimitException, max_tries=5)\n",
    "@sleep_and_retry\n",
    "@limits(calls=5, period=61)\n",
    "def query_api(query, scrollId=None):\n",
    "    \n",
    "    headers={\"Authorization\":\"Bearer \"+apikey}\n",
    "    search_url = \"https://api.core.ac.uk/v3/search/works\"\n",
    "    \n",
    "    if not scrollId:\n",
    "        response = requests.get(f\"{search_url}?q={query}&limit=50&scroll=true\",headers=headers)\n",
    "    else:\n",
    "        response = requests.get(f\"{search_url}?q={query}&limit=50&scrollId={scrollId}\",headers=headers)        \n",
    "    \n",
    "    print(response.status_code)\n",
    "    print(response.headers)\n",
    "    if response.status_code != 200:\n",
    "        raise Exception(f\"API response: {response.status_code}\")\n",
    "        \n",
    "    hit = response.json()\n",
    "    \n",
    "    for element in hit[\"results\"]: \n",
    "        if \"fullText\" in element:\n",
    "            del element[\"fullText\"]\n",
    "\n",
    "    return hit\n",
    "\n",
    "def iter_query(query):\n",
    "    allResults = []\n",
    "    scrollId = None\n",
    "    \n",
    "    result = query_api(query)\n",
    "    \n",
    "    allResults.append(result[\"results\"])\n",
    "    scrollId = result[\"scrollId\"]\n",
    "    while scrollId is not None:\n",
    "        result = query_api(query, scrollId=scrollId)\n",
    "        scrollId = result[\"scrollId\"]\n",
    "        allResults.append(result[\"results\"])"
   ]
  },
  {
   "cell_type": "code",
   "execution_count": null,
   "id": "2a9cf398-ae78-4125-bd0c-926d4048cff5",
   "metadata": {},
   "outputs": [],
   "source": [
    "test = iter_query(\"katonah+baseball\")"
   ]
  },
  {
   "cell_type": "code",
   "execution_count": null,
   "id": "150896a2-2cfb-454c-b535-da1d2de5d389",
   "metadata": {},
   "outputs": [],
   "source": [
    "test"
   ]
  },
  {
   "cell_type": "code",
   "execution_count": null,
   "id": "d5efdb3a-56b2-4d82-8ac5-da1b08e88e7a",
   "metadata": {},
   "outputs": [],
   "source": []
  }
 ],
 "metadata": {
  "kernelspec": {
   "display_name": "Python 3 (ipykernel)",
   "language": "python",
   "name": "python3"
  },
  "language_info": {
   "codemirror_mode": {
    "name": "ipython",
    "version": 3
   },
   "file_extension": ".py",
   "mimetype": "text/x-python",
   "name": "python",
   "nbconvert_exporter": "python",
   "pygments_lexer": "ipython3",
   "version": "3.9.10"
  }
 },
 "nbformat": 4,
 "nbformat_minor": 5
}
