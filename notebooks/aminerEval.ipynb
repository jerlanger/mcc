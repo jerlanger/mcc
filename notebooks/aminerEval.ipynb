{
 "cells": [
  {
   "cell_type": "code",
   "execution_count": 1,
   "id": "7931b756-0c04-49a5-bbc9-8108ec6ee7c2",
   "metadata": {},
   "outputs": [],
   "source": [
    "import requests\n",
    "import pandas as pd\n",
    "import numpy as np"
   ]
  },
  {
   "cell_type": "code",
   "execution_count": 4,
   "id": "37c58d31-d975-4425-8229-afda98967384",
   "metadata": {},
   "outputs": [],
   "source": [
    "response = requests.get(\"https://www.aminer.org/search/pub?q=emission%20reduction\")"
   ]
  },
  {
   "cell_type": "code",
   "execution_count": 13,
   "id": "2270433d-3ef8-44af-b9a4-d13a5245781b",
   "metadata": {},
   "outputs": [
    {
     "data": {
      "text/plain": [
       "b'<!--\\n * @Author: your name\\n * @Date: 2021-01-04 16:12:56\\n * @LastEditTime: 2021-07-22 15:31:58\\n * @LastEditors: Please set LastEditors\\n * @Description: In User Settings Edit\\n * @FilePath: /aminer.cn/app/view/index.html\\n-->\\n<!DOCTYPE html>\\n<html lang=\"\">\\n  <head>\\n    <meta charset=\"utf-8\" />\\n    <meta http-equiv=\"X-UA-Compatible\" content=\"IE=edge,chrome=1\" />\\n    <meta name=\"viewport\" content=\"width=device-width, initial-scale=1\" />\\n    <!-- <meta name=\"viewport\" content=\"width=device-width, initial-scale=1, maximum-scale=1, minimum-scale=1, user-scalable=no\" /> -->\\n    <meta name=\"shenma-site-verification\" content=\"b563342eeee1cbba13cf07baa5e78438_1602845163\" />\\n\\n    <link rel=\"stylesheet\" href=\"//ssr.aminer.cn/public/umi.08cf209c.css\" />\\n\\n    <script>\\n      window.routerBase = \\'/\\';\\n      window.resourceBaseUrl = \\'/public/\\';\\n    </script>\\n    <script src=\"https://static.aminer.cn/misc/ga.js\"></script>\\n\\n    <script async src=\"https://www.googletagmanager.com/gtag/js?id=UA-1156684-2\"></script>\\n    <script>\\n      window.dataLayer = window.dataLayer || [];\\n\\n      function gtag() {\\n        dataLayer.push(arguments);\\n      }\\n      gtag(\\'js\\', new Date());\\n      gtag(\\'config\\', \\'UA-1156684-2\\');\\n    </script>\\n  </head>\\n\\n  <body>\\n    <div id=\"root\"></div>\\n\\n    <script src=\"https://fileserver.aminer.cn/lib/react-latest/react.production.min.js\"></script>\\n    <script src=\"https://fileserver.aminer.cn/lib/react-latest/react-dom.production.min.js\"></script>\\n\\n    <script>window.__webpack_public_path__ = \\'/public/\\';</script><script src=\"//ssr.aminer.cn/public/umi.1f5430f7.js\"></script>\\n\\n    <script src=\"https://hm.baidu.com/hm.js?dc703135c31ddfba7bcda2d15caab04e\"></script>\\n    <script src=\"https://hm.baidu.com/hm.js?789fd650fa0be6a2a064d019d890b87f\"></script>\\n    <!-- <script src=\"https://fileserver.aminer.cn/misc/collect.min.js\"></script> -->\\n    <script src=\"https://fileserver.aminer.cn/misc/collect.min.nano.update.js\"></script>\\n\\n    <!-- GIO -->\\n    <script>\\n      var _vds = _vds || [];\\n      window._vds = _vds;\\n      (function () {\\n        _vds.push([\\'setAccountId\\', \\'ae8dfb99e5e4cda1\\']);\\n        (function () {\\n          var vds = document.createElement(\\'script\\');\\n          vds.type = \\'text/javascript\\';\\n          vds.async = true;\\n          vds.src =\\n            (\\'https:\\' == document.location.protocol ? \\'https://\\' : \\'http://\\') +\\n            \\'assets.giocdn.com/vds.js\\';\\n          var s = document.getElementsByTagName(\\'script\\')[0];\\n          s.parentNode.insertBefore(vds, s);\\n        })();\\n      })();\\n    </script>\\n  </body>\\n</html>\\n'"
      ]
     },
     "execution_count": 13,
     "metadata": {},
     "output_type": "execute_result"
    }
   ],
   "source": [
    "response.content"
   ]
  },
  {
   "cell_type": "code",
   "execution_count": null,
   "id": "bab933ed-a03b-4309-987f-de25e41914a9",
   "metadata": {},
   "outputs": [],
   "source": []
  }
 ],
 "metadata": {
  "kernelspec": {
   "display_name": "Python 3 (ipykernel)",
   "language": "python",
   "name": "python3"
  },
  "language_info": {
   "codemirror_mode": {
    "name": "ipython",
    "version": 3
   },
   "file_extension": ".py",
   "mimetype": "text/x-python",
   "name": "python",
   "nbconvert_exporter": "python",
   "pygments_lexer": "ipython3",
   "version": "3.8.10"
  }
 },
 "nbformat": 4,
 "nbformat_minor": 5
}
